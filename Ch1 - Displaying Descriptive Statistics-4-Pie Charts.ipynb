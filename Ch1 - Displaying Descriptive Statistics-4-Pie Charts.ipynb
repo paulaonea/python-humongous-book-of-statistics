{
 "cells": [
  {
   "cell_type": "markdown",
   "metadata": {},
   "source": [
    "# Pie Charts\n",
    "## Problem 1.21\n",
    "\n",
    "Note: Relative Frequency and Central Angle do not have to be computed for ploting data on a pie chart. They are computed here to follow the book's instructions."
   ]
  },
  {
   "cell_type": "code",
   "execution_count": 1,
   "metadata": {},
   "outputs": [],
   "source": [
    "import pandas as pd"
   ]
  },
  {
   "cell_type": "code",
   "execution_count": 2,
   "metadata": {},
   "outputs": [
    {
     "data": {
      "text/html": [
       "<div>\n",
       "<style scoped>\n",
       "    .dataframe tbody tr th:only-of-type {\n",
       "        vertical-align: middle;\n",
       "    }\n",
       "\n",
       "    .dataframe tbody tr th {\n",
       "        vertical-align: top;\n",
       "    }\n",
       "\n",
       "    .dataframe thead th {\n",
       "        text-align: right;\n",
       "    }\n",
       "</style>\n",
       "<table border=\"1\" class=\"dataframe\">\n",
       "  <thead>\n",
       "    <tr style=\"text-align: right;\">\n",
       "      <th></th>\n",
       "      <th>Number of Students</th>\n",
       "      <th>Relative Frequency</th>\n",
       "      <th>Central Angle</th>\n",
       "    </tr>\n",
       "    <tr>\n",
       "      <th>Grade</th>\n",
       "      <th></th>\n",
       "      <th></th>\n",
       "      <th></th>\n",
       "    </tr>\n",
       "  </thead>\n",
       "  <tbody>\n",
       "    <tr>\n",
       "      <th>A</th>\n",
       "      <td>9</td>\n",
       "      <td>0.300000</td>\n",
       "      <td>108.0</td>\n",
       "    </tr>\n",
       "    <tr>\n",
       "      <th>B</th>\n",
       "      <td>12</td>\n",
       "      <td>0.400000</td>\n",
       "      <td>144.0</td>\n",
       "    </tr>\n",
       "    <tr>\n",
       "      <th>C</th>\n",
       "      <td>7</td>\n",
       "      <td>0.233333</td>\n",
       "      <td>84.0</td>\n",
       "    </tr>\n",
       "    <tr>\n",
       "      <th>D</th>\n",
       "      <td>2</td>\n",
       "      <td>0.066667</td>\n",
       "      <td>24.0</td>\n",
       "    </tr>\n",
       "    <tr>\n",
       "      <th>Total</th>\n",
       "      <td>30</td>\n",
       "      <td>1.000000</td>\n",
       "      <td>360.0</td>\n",
       "    </tr>\n",
       "  </tbody>\n",
       "</table>\n",
       "</div>"
      ],
      "text/plain": [
       "       Number of Students  Relative Frequency  Central Angle\n",
       "Grade                                                       \n",
       "A                       9            0.300000          108.0\n",
       "B                      12            0.400000          144.0\n",
       "C                       7            0.233333           84.0\n",
       "D                       2            0.066667           24.0\n",
       "Total                  30            1.000000          360.0"
      ]
     },
     "execution_count": 2,
     "metadata": {},
     "output_type": "execute_result"
    }
   ],
   "source": [
    "students = pd.DataFrame({'Number of Students': [9, 12, 7, 2]}, \n",
    "                        index = ['A', 'B', 'C', 'D'])\n",
    "students.index.name = 'Grade'\n",
    "students.loc['Total'] = students.sum()\n",
    "students['Relative Frequency'] = students['Number of Students'] / students.loc['Total', 'Number of Students']\n",
    "students['Central Angle'] = students['Relative Frequency'] * 360\n",
    "students"
   ]
  },
  {
   "cell_type": "code",
   "execution_count": 3,
   "metadata": {},
   "outputs": [],
   "source": [
    "chart11 = students[:-1].plot.pie(y = 'Number of Students', legend=False)\n",
    "chart11.invert_yaxis()"
   ]
  },
  {
   "cell_type": "markdown",
   "metadata": {},
   "source": [
    "## Problem 1.22\n",
    "Note: Relative Frequency and Central Angle are not required for ploting data on a pie chart. They are computed here to follow the book's instructions."
   ]
  },
  {
   "cell_type": "code",
   "execution_count": 4,
   "metadata": {},
   "outputs": [
    {
     "data": {
      "text/html": [
       "<div>\n",
       "<style scoped>\n",
       "    .dataframe tbody tr th:only-of-type {\n",
       "        vertical-align: middle;\n",
       "    }\n",
       "\n",
       "    .dataframe tbody tr th {\n",
       "        vertical-align: top;\n",
       "    }\n",
       "\n",
       "    .dataframe thead th {\n",
       "        text-align: right;\n",
       "    }\n",
       "</style>\n",
       "<table border=\"1\" class=\"dataframe\">\n",
       "  <thead>\n",
       "    <tr style=\"text-align: right;\">\n",
       "      <th></th>\n",
       "      <th>Number of Wins</th>\n",
       "      <th>Relative Frequency</th>\n",
       "      <th>Central Angle</th>\n",
       "    </tr>\n",
       "    <tr>\n",
       "      <th>Wins</th>\n",
       "      <th></th>\n",
       "      <th></th>\n",
       "      <th></th>\n",
       "    </tr>\n",
       "  </thead>\n",
       "  <tbody>\n",
       "    <tr>\n",
       "      <th>2003</th>\n",
       "      <td>10</td>\n",
       "      <td>0.222222</td>\n",
       "      <td>80.0</td>\n",
       "    </tr>\n",
       "    <tr>\n",
       "      <th>2004</th>\n",
       "      <td>10</td>\n",
       "      <td>0.222222</td>\n",
       "      <td>80.0</td>\n",
       "    </tr>\n",
       "    <tr>\n",
       "      <th>2005</th>\n",
       "      <td>4</td>\n",
       "      <td>0.088889</td>\n",
       "      <td>32.0</td>\n",
       "    </tr>\n",
       "    <tr>\n",
       "      <th>2006</th>\n",
       "      <td>8</td>\n",
       "      <td>0.177778</td>\n",
       "      <td>64.0</td>\n",
       "    </tr>\n",
       "    <tr>\n",
       "      <th>2007</th>\n",
       "      <td>13</td>\n",
       "      <td>0.288889</td>\n",
       "      <td>104.0</td>\n",
       "    </tr>\n",
       "    <tr>\n",
       "      <th>Total</th>\n",
       "      <td>45</td>\n",
       "      <td>1.000000</td>\n",
       "      <td>360.0</td>\n",
       "    </tr>\n",
       "  </tbody>\n",
       "</table>\n",
       "</div>"
      ],
      "text/plain": [
       "       Number of Wins  Relative Frequency  Central Angle\n",
       "Wins                                                    \n",
       "2003               10            0.222222           80.0\n",
       "2004               10            0.222222           80.0\n",
       "2005                4            0.088889           32.0\n",
       "2006                8            0.177778           64.0\n",
       "2007               13            0.288889          104.0\n",
       "Total              45            1.000000          360.0"
      ]
     },
     "execution_count": 4,
     "metadata": {},
     "output_type": "execute_result"
    }
   ],
   "source": [
    "wins = pd.DataFrame({'Number of Wins': [10, 10, 4, 8, 13]}, \n",
    "                    index = [2003, 2004, 2005, 2006, 2007])\n",
    "wins.index.name = 'Wins'\n",
    "wins.loc['Total'] = wins.sum()\n",
    "wins['Relative Frequency'] = wins ['Number of Wins'] / wins.loc['Total', 'Number of Wins']\n",
    "wins['Central Angle'] = wins ['Relative Frequency'] * 360\n",
    "wins"
   ]
  },
  {
   "cell_type": "code",
   "execution_count": 5,
   "metadata": {},
   "outputs": [
    {
     "data": {
      "image/png": "[encoded data removed]",
      "text/plain": [
       "<Figure size 432x288 with 1 Axes>"
      ]
     },
     "metadata": {},
     "output_type": "display_data"
    }
   ],
   "source": [
    "chart12 = wins[:-1].plot.pie(y = 'Number of Wins', legend=False)\n",
    "chart12.invert_yaxis()"
   ]
  },
  {
   "cell_type": "markdown",
   "metadata": {},
   "source": [
    "## Problem 1.23\n",
    "Note: Percentage and Central Angle are not required for ploting data on a pie chart. They are computed here to follow the book's instructions."
   ]
  },
  {
   "cell_type": "code",
   "execution_count": 6,
   "metadata": {},
   "outputs": [
    {
     "data": {
      "text/html": [
       "<div>\n",
       "<style scoped>\n",
       "    .dataframe tbody tr th:only-of-type {\n",
       "        vertical-align: middle;\n",
       "    }\n",
       "\n",
       "    .dataframe tbody tr th {\n",
       "        vertical-align: top;\n",
       "    }\n",
       "\n",
       "    .dataframe thead th {\n",
       "        text-align: right;\n",
       "    }\n",
       "</style>\n",
       "<table border=\"1\" class=\"dataframe\">\n",
       "  <thead>\n",
       "    <tr style=\"text-align: right;\">\n",
       "      <th></th>\n",
       "      <th>Dollars</th>\n",
       "      <th>Percentage</th>\n",
       "      <th>Central Angle</th>\n",
       "    </tr>\n",
       "    <tr>\n",
       "      <th>Investment</th>\n",
       "      <th></th>\n",
       "      <th></th>\n",
       "      <th></th>\n",
       "    </tr>\n",
       "  </thead>\n",
       "  <tbody>\n",
       "    <tr>\n",
       "      <th>Savings</th>\n",
       "      <td>9000</td>\n",
       "      <td>0.115385</td>\n",
       "      <td>41.538462</td>\n",
       "    </tr>\n",
       "    <tr>\n",
       "      <th>Bonds</th>\n",
       "      <td>12800</td>\n",
       "      <td>0.164103</td>\n",
       "      <td>59.076923</td>\n",
       "    </tr>\n",
       "    <tr>\n",
       "      <th>CDs</th>\n",
       "      <td>21700</td>\n",
       "      <td>0.278205</td>\n",
       "      <td>100.153846</td>\n",
       "    </tr>\n",
       "    <tr>\n",
       "      <th>Stocks</th>\n",
       "      <td>34500</td>\n",
       "      <td>0.442308</td>\n",
       "      <td>159.230769</td>\n",
       "    </tr>\n",
       "    <tr>\n",
       "      <th>Total</th>\n",
       "      <td>78000</td>\n",
       "      <td>1.000000</td>\n",
       "      <td>360.000000</td>\n",
       "    </tr>\n",
       "  </tbody>\n",
       "</table>\n",
       "</div>"
      ],
      "text/plain": [
       "            Dollars  Percentage  Central Angle\n",
       "Investment                                    \n",
       "Savings        9000    0.115385      41.538462\n",
       "Bonds         12800    0.164103      59.076923\n",
       "CDs           21700    0.278205     100.153846\n",
       "Stocks        34500    0.442308     159.230769\n",
       "Total         78000    1.000000     360.000000"
      ]
     },
     "execution_count": 6,
     "metadata": {},
     "output_type": "execute_result"
    }
   ],
   "source": [
    "invest = pd.DataFrame({'Dollars': [9000, 12800, 21700, 34500]}, \n",
    "                      index = ['Savings', 'Bonds', 'CDs', 'Stocks'])\n",
    "invest.index.name = 'Investment'\n",
    "invest.loc['Total'] = invest.sum()\n",
    "invest['Percentage'] = invest['Dollars'] / invest.loc['Total', 'Dollars']\n",
    "invest['Central Angle'] = invest['Percentage'] * 360\n",
    "invest"
   ]
  },
  {
   "cell_type": "code",
   "execution_count": 7,
   "metadata": {},
   "outputs": [
    {
     "data": {
      "image/png": "[encoded data removed]",
      "text/plain": [
       "<Figure size 432x288 with 1 Axes>"
      ]
     },
     "metadata": {},
     "output_type": "display_data"
    }
   ],
   "source": [
    "chart13 = invest[:-1].plot.pie(y='Dollars', legend=False)\n",
    "chart13.invert_yaxis()"
   ]
  },
  {
   "cell_type": "markdown",
   "metadata": {},
   "source": [
    "## Problem 1.24\n",
    "Note: Relative Frequency and Central Angle are not required for ploting data on a pie chart. They are computed here to follow the book's instructions."
   ]
  },
  {
   "cell_type": "code",
   "execution_count": 8,
   "metadata": {},
   "outputs": [
    {
     "data": {
      "text/html": [
       "<div>\n",
       "<style scoped>\n",
       "    .dataframe tbody tr th:only-of-type {\n",
       "        vertical-align: middle;\n",
       "    }\n",
       "\n",
       "    .dataframe tbody tr th {\n",
       "        vertical-align: top;\n",
       "    }\n",
       "\n",
       "    .dataframe thead th {\n",
       "        text-align: right;\n",
       "    }\n",
       "</style>\n",
       "<table border=\"1\" class=\"dataframe\">\n",
       "  <thead>\n",
       "    <tr style=\"text-align: right;\">\n",
       "      <th></th>\n",
       "      <th>Frequency</th>\n",
       "      <th>Relative Frequency</th>\n",
       "      <th>Central Angle</th>\n",
       "    </tr>\n",
       "    <tr>\n",
       "      <th>Daily High Tenperature</th>\n",
       "      <th></th>\n",
       "      <th></th>\n",
       "      <th></th>\n",
       "    </tr>\n",
       "  </thead>\n",
       "  <tbody>\n",
       "    <tr>\n",
       "      <th>40-under 45</th>\n",
       "      <td>6</td>\n",
       "      <td>0.150</td>\n",
       "      <td>54.0</td>\n",
       "    </tr>\n",
       "    <tr>\n",
       "      <th>45-under 50</th>\n",
       "      <td>12</td>\n",
       "      <td>0.300</td>\n",
       "      <td>108.0</td>\n",
       "    </tr>\n",
       "    <tr>\n",
       "      <th>50-under 55</th>\n",
       "      <td>17</td>\n",
       "      <td>0.425</td>\n",
       "      <td>153.0</td>\n",
       "    </tr>\n",
       "    <tr>\n",
       "      <th>55-under 60</th>\n",
       "      <td>5</td>\n",
       "      <td>0.125</td>\n",
       "      <td>45.0</td>\n",
       "    </tr>\n",
       "    <tr>\n",
       "      <th>Total</th>\n",
       "      <td>40</td>\n",
       "      <td>1.000</td>\n",
       "      <td>360.0</td>\n",
       "    </tr>\n",
       "  </tbody>\n",
       "</table>\n",
       "</div>"
      ],
      "text/plain": [
       "                        Frequency  Relative Frequency  Central Angle\n",
       "Daily High Tenperature                                              \n",
       "40-under 45                     6               0.150           54.0\n",
       "45-under 50                    12               0.300          108.0\n",
       "50-under 55                    17               0.425          153.0\n",
       "55-under 60                     5               0.125           45.0\n",
       "Total                          40               1.000          360.0"
      ]
     },
     "execution_count": 8,
     "metadata": {},
     "output_type": "execute_result"
    }
   ],
   "source": [
    "tmp = pd.DataFrame({'Frequency': [6, 12, 17, 5]}, \n",
    "                           index = ['40-under 45', '45-under 50', '50-under 55', '55-under 60'])\n",
    "tmp.index.name = 'Daily High Tenperature'\n",
    "tmp.loc['Total'] = tmp.sum()\n",
    "tmp['Relative Frequency'] = tmp['Frequency'] / tmp.loc['Total', 'Frequency']\n",
    "tmp['Central Angle'] = tmp['Relative Frequency'] * 360\n",
    "tmp"
   ]
  },
  {
   "cell_type": "code",
   "execution_count": 9,
   "metadata": {},
   "outputs": [
    {
     "data": {
      "text/plain": [
       "<bound method _AxesBase.invert_yaxis of <matplotlib.axes._subplots.AxesSubplot object at 0x121e93278>>"
      ]
     },
     "execution_count": 9,
     "metadata": {},
     "output_type": "execute_result"
    },
    {
     "data": {
      "image/png": "[encoded data removed]",
      "text/plain": [
       "<Figure size 432x288 with 1 Axes>"
      ]
     },
     "metadata": {},
     "output_type": "display_data"
    }
   ],
   "source": [
    "chart14 = tmp[:-1].plot.pie(y='Frequency', legend=False)\n",
    "chart14.invert_yaxis"
   ]
  }
 ],
 "metadata": {
  "kernelspec": {
   "display_name": "3.7",
   "language": "python",
   "name": "3.7"
  },
  "language_info": {
   "codemirror_mode": {
    "name": "ipython",
    "version": 3
   },
   "file_extension": ".py",
   "mimetype": "text/x-python",
   "name": "python",
   "nbconvert_exporter": "python",
   "pygments_lexer": "ipython3",
   "version": "3.7.3"
  }
 },
 "nbformat": 4,
 "nbformat_minor": 2
}
