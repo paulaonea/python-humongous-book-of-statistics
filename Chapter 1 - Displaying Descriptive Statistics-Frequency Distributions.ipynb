{
 "cells": [
  {
   "cell_type": "markdown",
   "metadata": {},
   "source": [
    "# Frequency Distributions"
   ]
  },
  {
   "cell_type": "code",
   "execution_count": 1,
   "metadata": {},
   "outputs": [],
   "source": [
    "import pandas as pd\n",
    "import numpy as np\n",
    "import matplotlib.pyplot as plt\n",
    "%matplotlib inline"
   ]
  },
  {
   "cell_type": "markdown",
   "metadata": {},
   "source": [
    "## Problem 1.1"
   ]
  },
  {
   "cell_type": "code",
   "execution_count": 2,
   "metadata": {},
   "outputs": [],
   "source": [
    "daily_demand = pd.Series([2, 1, 0, 2, 1, \n",
    "                          3, 0, 2, 4, 0, \n",
    "                          3, 2, 3, 4, 2, \n",
    "                          2, 2, 4, 3, 0])"
   ]
  },
  {
   "cell_type": "code",
   "execution_count": 3,
   "metadata": {},
   "outputs": [
    {
     "data": {
      "text/html": [
       "<div>\n",
       "<style scoped>\n",
       "    .dataframe tbody tr th:only-of-type {\n",
       "        vertical-align: middle;\n",
       "    }\n",
       "\n",
       "    .dataframe tbody tr th {\n",
       "        vertical-align: top;\n",
       "    }\n",
       "\n",
       "    .dataframe thead th {\n",
       "        text-align: right;\n",
       "    }\n",
       "</style>\n",
       "<table border=\"1\" class=\"dataframe\">\n",
       "  <thead>\n",
       "    <tr style=\"text-align: right;\">\n",
       "      <th></th>\n",
       "      <th>Frequency</th>\n",
       "    </tr>\n",
       "    <tr>\n",
       "      <th>Daily Demand</th>\n",
       "      <th></th>\n",
       "    </tr>\n",
       "  </thead>\n",
       "  <tbody>\n",
       "    <tr>\n",
       "      <th>0</th>\n",
       "      <td>4</td>\n",
       "    </tr>\n",
       "    <tr>\n",
       "      <th>1</th>\n",
       "      <td>2</td>\n",
       "    </tr>\n",
       "    <tr>\n",
       "      <th>2</th>\n",
       "      <td>7</td>\n",
       "    </tr>\n",
       "    <tr>\n",
       "      <th>3</th>\n",
       "      <td>4</td>\n",
       "    </tr>\n",
       "    <tr>\n",
       "      <th>4</th>\n",
       "      <td>3</td>\n",
       "    </tr>\n",
       "    <tr>\n",
       "      <th>Total</th>\n",
       "      <td>20</td>\n",
       "    </tr>\n",
       "  </tbody>\n",
       "</table>\n",
       "</div>"
      ],
      "text/plain": [
       "              Frequency\n",
       "Daily Demand           \n",
       "0                     4\n",
       "1                     2\n",
       "2                     7\n",
       "3                     4\n",
       "4                     3\n",
       "Total                20"
      ]
     },
     "execution_count": 3,
     "metadata": {},
     "output_type": "execute_result"
    }
   ],
   "source": [
    "df = pd.DataFrame({'Frequency': daily_demand.value_counts().sort_index()}, index = sorted(daily_demand.unique()))\n",
    "df.index.name = 'Daily Demand'\n",
    "df.loc['Total'] = df.sum()\n",
    "df"
   ]
  },
  {
   "cell_type": "markdown",
   "metadata": {},
   "source": [
    "## Problem 1.2"
   ]
  },
  {
   "cell_type": "code",
   "execution_count": 4,
   "metadata": {},
   "outputs": [
    {
     "data": {
      "text/html": [
       "<div>\n",
       "<style scoped>\n",
       "    .dataframe tbody tr th:only-of-type {\n",
       "        vertical-align: middle;\n",
       "    }\n",
       "\n",
       "    .dataframe tbody tr th {\n",
       "        vertical-align: top;\n",
       "    }\n",
       "\n",
       "    .dataframe thead th {\n",
       "        text-align: right;\n",
       "    }\n",
       "</style>\n",
       "<table border=\"1\" class=\"dataframe\">\n",
       "  <thead>\n",
       "    <tr style=\"text-align: right;\">\n",
       "      <th></th>\n",
       "      <th>Frequency</th>\n",
       "      <th>Relative Frequency</th>\n",
       "    </tr>\n",
       "    <tr>\n",
       "      <th>Daily Demand</th>\n",
       "      <th></th>\n",
       "      <th></th>\n",
       "    </tr>\n",
       "  </thead>\n",
       "  <tbody>\n",
       "    <tr>\n",
       "      <th>0</th>\n",
       "      <td>4</td>\n",
       "      <td>0.20</td>\n",
       "    </tr>\n",
       "    <tr>\n",
       "      <th>1</th>\n",
       "      <td>2</td>\n",
       "      <td>0.10</td>\n",
       "    </tr>\n",
       "    <tr>\n",
       "      <th>2</th>\n",
       "      <td>7</td>\n",
       "      <td>0.35</td>\n",
       "    </tr>\n",
       "    <tr>\n",
       "      <th>3</th>\n",
       "      <td>4</td>\n",
       "      <td>0.20</td>\n",
       "    </tr>\n",
       "    <tr>\n",
       "      <th>4</th>\n",
       "      <td>3</td>\n",
       "      <td>0.15</td>\n",
       "    </tr>\n",
       "    <tr>\n",
       "      <th>Total</th>\n",
       "      <td>20</td>\n",
       "      <td>1.00</td>\n",
       "    </tr>\n",
       "  </tbody>\n",
       "</table>\n",
       "</div>"
      ],
      "text/plain": [
       "              Frequency  Relative Frequency\n",
       "Daily Demand                               \n",
       "0                     4                0.20\n",
       "1                     2                0.10\n",
       "2                     7                0.35\n",
       "3                     4                0.20\n",
       "4                     3                0.15\n",
       "Total                20                1.00"
      ]
     },
     "execution_count": 4,
     "metadata": {},
     "output_type": "execute_result"
    }
   ],
   "source": [
    "df['Relative Frequency'] = pd.Series(daily_demand.value_counts(normalize = True).sort_index())\n",
    "df.loc['Total', 'Relative Frequency'] = df['Relative Frequency'].sum()\n",
    "df"
   ]
  },
  {
   "cell_type": "markdown",
   "metadata": {},
   "source": [
    "## Problem 1.3"
   ]
  },
  {
   "cell_type": "code",
   "execution_count": 5,
   "metadata": {},
   "outputs": [
    {
     "data": {
      "text/html": [
       "<div>\n",
       "<style scoped>\n",
       "    .dataframe tbody tr th:only-of-type {\n",
       "        vertical-align: middle;\n",
       "    }\n",
       "\n",
       "    .dataframe tbody tr th {\n",
       "        vertical-align: top;\n",
       "    }\n",
       "\n",
       "    .dataframe thead th {\n",
       "        text-align: right;\n",
       "    }\n",
       "</style>\n",
       "<table border=\"1\" class=\"dataframe\">\n",
       "  <thead>\n",
       "    <tr style=\"text-align: right;\">\n",
       "      <th></th>\n",
       "      <th>Frequency</th>\n",
       "      <th>Relative Frequency</th>\n",
       "      <th>Cumulative Relative Frequency</th>\n",
       "    </tr>\n",
       "    <tr>\n",
       "      <th>Daily Demand</th>\n",
       "      <th></th>\n",
       "      <th></th>\n",
       "      <th></th>\n",
       "    </tr>\n",
       "  </thead>\n",
       "  <tbody>\n",
       "    <tr>\n",
       "      <th>0</th>\n",
       "      <td>4</td>\n",
       "      <td>0.20</td>\n",
       "      <td>0.20</td>\n",
       "    </tr>\n",
       "    <tr>\n",
       "      <th>1</th>\n",
       "      <td>2</td>\n",
       "      <td>0.10</td>\n",
       "      <td>0.30</td>\n",
       "    </tr>\n",
       "    <tr>\n",
       "      <th>2</th>\n",
       "      <td>7</td>\n",
       "      <td>0.35</td>\n",
       "      <td>0.65</td>\n",
       "    </tr>\n",
       "    <tr>\n",
       "      <th>3</th>\n",
       "      <td>4</td>\n",
       "      <td>0.20</td>\n",
       "      <td>0.85</td>\n",
       "    </tr>\n",
       "    <tr>\n",
       "      <th>4</th>\n",
       "      <td>3</td>\n",
       "      <td>0.15</td>\n",
       "      <td>1.00</td>\n",
       "    </tr>\n",
       "    <tr>\n",
       "      <th>Total</th>\n",
       "      <td>20</td>\n",
       "      <td>1.00</td>\n",
       "      <td>1.00</td>\n",
       "    </tr>\n",
       "  </tbody>\n",
       "</table>\n",
       "</div>"
      ],
      "text/plain": [
       "              Frequency  Relative Frequency  Cumulative Relative Frequency\n",
       "Daily Demand                                                              \n",
       "0                     4                0.20                           0.20\n",
       "1                     2                0.10                           0.30\n",
       "2                     7                0.35                           0.65\n",
       "3                     4                0.20                           0.85\n",
       "4                     3                0.15                           1.00\n",
       "Total                20                1.00                           1.00"
      ]
     },
     "execution_count": 5,
     "metadata": {},
     "output_type": "execute_result"
    }
   ],
   "source": [
    "df['Cumulative Relative Frequency'] = df['Relative Frequency'].cumsum()\n",
    "df.loc['Total', 'Cumulative Relative Frequency'] = df['Relative Frequency'].sum() - 1\n",
    "df"
   ]
  },
  {
   "cell_type": "markdown",
   "metadata": {},
   "source": [
    "## Problem 1.4"
   ]
  },
  {
   "cell_type": "code",
   "execution_count": 6,
   "metadata": {},
   "outputs": [],
   "source": [
    "calls_per_day = pd.Series([4,5,1,0,7,8,\n",
    "                           3,6,8,3,0,9,\n",
    "                           2,12,14,5,5,10,\n",
    "                           7,2,11,9,4,3,\n",
    "                           1,5,7,3,5,6])"
   ]
  },
  {
   "cell_type": "code",
   "execution_count": 7,
   "metadata": {},
   "outputs": [
    {
     "data": {
      "text/html": [
       "<div>\n",
       "<style scoped>\n",
       "    .dataframe tbody tr th:only-of-type {\n",
       "        vertical-align: middle;\n",
       "    }\n",
       "\n",
       "    .dataframe tbody tr th {\n",
       "        vertical-align: top;\n",
       "    }\n",
       "\n",
       "    .dataframe thead th {\n",
       "        text-align: right;\n",
       "    }\n",
       "</style>\n",
       "<table border=\"1\" class=\"dataframe\">\n",
       "  <thead>\n",
       "    <tr style=\"text-align: right;\">\n",
       "      <th></th>\n",
       "      <th>Frequency</th>\n",
       "    </tr>\n",
       "    <tr>\n",
       "      <th>Calls per Day</th>\n",
       "      <th></th>\n",
       "    </tr>\n",
       "  </thead>\n",
       "  <tbody>\n",
       "    <tr>\n",
       "      <th>(-0.001, 2.0]</th>\n",
       "      <td>6</td>\n",
       "    </tr>\n",
       "    <tr>\n",
       "      <th>(2.0, 5.0]</th>\n",
       "      <td>11</td>\n",
       "    </tr>\n",
       "    <tr>\n",
       "      <th>(5.0, 8.0]</th>\n",
       "      <td>7</td>\n",
       "    </tr>\n",
       "    <tr>\n",
       "      <th>(8.0, 11.0]</th>\n",
       "      <td>4</td>\n",
       "    </tr>\n",
       "    <tr>\n",
       "      <th>(11.0, 14.0]</th>\n",
       "      <td>2</td>\n",
       "    </tr>\n",
       "  </tbody>\n",
       "</table>\n",
       "</div>"
      ],
      "text/plain": [
       "               Frequency\n",
       "Calls per Day           \n",
       "(-0.001, 2.0]          6\n",
       "(2.0, 5.0]            11\n",
       "(5.0, 8.0]             7\n",
       "(8.0, 11.0]            4\n",
       "(11.0, 14.0]           2"
      ]
     },
     "execution_count": 7,
     "metadata": {},
     "output_type": "execute_result"
    }
   ],
   "source": [
    "cuts = pd.cut(calls_per_day, [0,2,5,8,11,14], include_lowest=True)\n",
    "df2 = pd.DataFrame(pd.value_counts(cuts, sort=False),  columns = ['Frequency'])\n",
    "df2.index.name = 'Calls per Day'\n",
    "df2"
   ]
  },
  {
   "cell_type": "markdown",
   "metadata": {},
   "source": [
    "## Problem 1.5"
   ]
  },
  {
   "cell_type": "code",
   "execution_count": 8,
   "metadata": {},
   "outputs": [
    {
     "data": {
      "text/html": [
       "<div>\n",
       "<style scoped>\n",
       "    .dataframe tbody tr th:only-of-type {\n",
       "        vertical-align: middle;\n",
       "    }\n",
       "\n",
       "    .dataframe tbody tr th {\n",
       "        vertical-align: top;\n",
       "    }\n",
       "\n",
       "    .dataframe thead th {\n",
       "        text-align: right;\n",
       "    }\n",
       "</style>\n",
       "<table border=\"1\" class=\"dataframe\">\n",
       "  <thead>\n",
       "    <tr style=\"text-align: right;\">\n",
       "      <th></th>\n",
       "      <th>Frequency</th>\n",
       "      <th>Relative Frequency</th>\n",
       "    </tr>\n",
       "    <tr>\n",
       "      <th>Calls per Day</th>\n",
       "      <th></th>\n",
       "      <th></th>\n",
       "    </tr>\n",
       "  </thead>\n",
       "  <tbody>\n",
       "    <tr>\n",
       "      <th>(-0.001, 2.0]</th>\n",
       "      <td>6</td>\n",
       "      <td>0.200000</td>\n",
       "    </tr>\n",
       "    <tr>\n",
       "      <th>(2.0, 5.0]</th>\n",
       "      <td>11</td>\n",
       "      <td>0.366667</td>\n",
       "    </tr>\n",
       "    <tr>\n",
       "      <th>(5.0, 8.0]</th>\n",
       "      <td>7</td>\n",
       "      <td>0.233333</td>\n",
       "    </tr>\n",
       "    <tr>\n",
       "      <th>(8.0, 11.0]</th>\n",
       "      <td>4</td>\n",
       "      <td>0.133333</td>\n",
       "    </tr>\n",
       "    <tr>\n",
       "      <th>(11.0, 14.0]</th>\n",
       "      <td>2</td>\n",
       "      <td>0.066667</td>\n",
       "    </tr>\n",
       "  </tbody>\n",
       "</table>\n",
       "</div>"
      ],
      "text/plain": [
       "               Frequency  Relative Frequency\n",
       "Calls per Day                               \n",
       "(-0.001, 2.0]          6            0.200000\n",
       "(2.0, 5.0]            11            0.366667\n",
       "(5.0, 8.0]             7            0.233333\n",
       "(8.0, 11.0]            4            0.133333\n",
       "(11.0, 14.0]           2            0.066667"
      ]
     },
     "execution_count": 8,
     "metadata": {},
     "output_type": "execute_result"
    }
   ],
   "source": [
    "df2['Relative Frequency'] = pd.value_counts(cuts, sort=False, normalize=True)\n",
    "df2"
   ]
  },
  {
   "cell_type": "markdown",
   "metadata": {},
   "source": [
    "## Problem 1.6"
   ]
  },
  {
   "cell_type": "code",
   "execution_count": 9,
   "metadata": {},
   "outputs": [
    {
     "data": {
      "text/html": [
       "<div>\n",
       "<style scoped>\n",
       "    .dataframe tbody tr th:only-of-type {\n",
       "        vertical-align: middle;\n",
       "    }\n",
       "\n",
       "    .dataframe tbody tr th {\n",
       "        vertical-align: top;\n",
       "    }\n",
       "\n",
       "    .dataframe thead th {\n",
       "        text-align: right;\n",
       "    }\n",
       "</style>\n",
       "<table border=\"1\" class=\"dataframe\">\n",
       "  <thead>\n",
       "    <tr style=\"text-align: right;\">\n",
       "      <th></th>\n",
       "      <th>Frequency</th>\n",
       "      <th>Relative Frequency</th>\n",
       "      <th>Cumulative Relative Frequency</th>\n",
       "    </tr>\n",
       "    <tr>\n",
       "      <th>Calls per Day</th>\n",
       "      <th></th>\n",
       "      <th></th>\n",
       "      <th></th>\n",
       "    </tr>\n",
       "  </thead>\n",
       "  <tbody>\n",
       "    <tr>\n",
       "      <th>(-0.001, 2.0]</th>\n",
       "      <td>6</td>\n",
       "      <td>0.200000</td>\n",
       "      <td>0.200000</td>\n",
       "    </tr>\n",
       "    <tr>\n",
       "      <th>(2.0, 5.0]</th>\n",
       "      <td>11</td>\n",
       "      <td>0.366667</td>\n",
       "      <td>0.566667</td>\n",
       "    </tr>\n",
       "    <tr>\n",
       "      <th>(5.0, 8.0]</th>\n",
       "      <td>7</td>\n",
       "      <td>0.233333</td>\n",
       "      <td>0.800000</td>\n",
       "    </tr>\n",
       "    <tr>\n",
       "      <th>(8.0, 11.0]</th>\n",
       "      <td>4</td>\n",
       "      <td>0.133333</td>\n",
       "      <td>0.933333</td>\n",
       "    </tr>\n",
       "    <tr>\n",
       "      <th>(11.0, 14.0]</th>\n",
       "      <td>2</td>\n",
       "      <td>0.066667</td>\n",
       "      <td>1.000000</td>\n",
       "    </tr>\n",
       "  </tbody>\n",
       "</table>\n",
       "</div>"
      ],
      "text/plain": [
       "               Frequency  Relative Frequency  Cumulative Relative Frequency\n",
       "Calls per Day                                                              \n",
       "(-0.001, 2.0]          6            0.200000                       0.200000\n",
       "(2.0, 5.0]            11            0.366667                       0.566667\n",
       "(5.0, 8.0]             7            0.233333                       0.800000\n",
       "(8.0, 11.0]            4            0.133333                       0.933333\n",
       "(11.0, 14.0]           2            0.066667                       1.000000"
      ]
     },
     "execution_count": 9,
     "metadata": {},
     "output_type": "execute_result"
    }
   ],
   "source": [
    "df2['Cumulative Relative Frequency'] = df2['Relative Frequency'].cumsum()\n",
    "df2"
   ]
  },
  {
   "cell_type": "markdown",
   "metadata": {},
   "source": [
    "# Histograms\n",
    "## Problem 1.7"
   ]
  },
  {
   "cell_type": "code",
   "execution_count": 10,
   "metadata": {},
   "outputs": [
    {
     "data": {
      "text/plain": [
       "<matplotlib.axes._subplots.AxesSubplot at 0x11879aac8>"
      ]
     },
     "execution_count": 10,
     "metadata": {},
     "output_type": "execute_result"
    },
    {
     "data": {
      "image/png": "[encoded data removed]",
      "text/plain": [
       "<Figure size 432x288 with 1 Axes>"
      ]
     },
     "metadata": {
      "needs_background": "light"
     },
     "output_type": "display_data"
    }
   ],
   "source": [
    "df3 = pd.DataFrame({'Grade': ['A', 'B', 'C', 'D', 'F'], 'Number of Students': [9, 12, 6, 2, 1]})\n",
    "df3.plot.bar(x = 'Grade', y = 'Number of Students', rot = 0, color='silver', edgecolor='k', width=0.7)"
   ]
  },
  {
   "cell_type": "markdown",
   "metadata": {},
   "source": [
    "## Problem 1.8"
   ]
  },
  {
   "cell_type": "code",
   "execution_count": 11,
   "metadata": {},
   "outputs": [],
   "source": [
    "com_miles = pd.Series([0,1,2,5,5,5,6,6,6,7,7,7,7,9,9,9,11,11,11,13,\n",
    "                       13,13,14,14,14,14,14,14,14,14,15,15,15,15,15,\n",
    "                       17,17,18,18,19,19,21,21,21,21,21,21,24,24,23])"
   ]
  },
  {
   "cell_type": "code",
   "execution_count": 12,
   "metadata": {},
   "outputs": [
    {
     "data": {
      "text/plain": [
       "Text(0, 0.5, 'Number of Employees')"
      ]
     },
     "execution_count": 12,
     "metadata": {},
     "output_type": "execute_result"
    },
    {
     "data": {
      "image/png": "[encoded data removed]",
      "text/plain": [
       "<Figure size 432x288 with 1 Axes>"
      ]
     },
     "metadata": {
      "needs_background": "light"
     },
     "output_type": "display_data"
    }
   ],
   "source": [
    "hist1 = com_miles.plot(kind='hist', bins=6, color='silver', edgecolor='k')\n",
    "hist1.set_xlabel(\"Commuting Miles\")\n",
    "hist1.set_ylabel(\"Number of Employees\")"
   ]
  },
  {
   "cell_type": "markdown",
   "metadata": {},
   "source": [
    "## Problem 1.9"
   ]
  },
  {
   "cell_type": "code",
   "execution_count": 13,
   "metadata": {},
   "outputs": [],
   "source": [
    "miles_per_tank = pd.Series([302, 315, 265, 296, 289, 301, 308, 280, 285, 318,\n",
    "                           267, 300, 309, 312, 299, 316, 301, 286, 281, 311,\n",
    "                           272, 295, 305, 283, 309, 313, 278, 284, 296, 291,\n",
    "                           310, 302, 282, 287, 307, 305, 314, 318, 308, 280])"
   ]
  },
  {
   "cell_type": "code",
   "execution_count": 14,
   "metadata": {},
   "outputs": [
    {
     "data": {
      "text/plain": [
       "Text(0, 0.5, 'Number of Tanks')"
      ]
     },
     "execution_count": 14,
     "metadata": {},
     "output_type": "execute_result"
    },
    {
     "data": {
      "image/png": "[encoded data removed]",
      "text/plain": [
       "<Figure size 432x288 with 1 Axes>"
      ]
     },
     "metadata": {
      "needs_background": "light"
     },
     "output_type": "display_data"
    }
   ],
   "source": [
    "hist2 = miles_per_tank.plot(kind='hist', bins=6, color='silver', edgecolor='k')\n",
    "hist2.set_xlabel('Miles per Tank of Gas')\n",
    "hist2.set_ylabel('Number of Tanks')"
   ]
  },
  {
   "cell_type": "markdown",
   "metadata": {},
   "source": [
    "## Problem 1.10"
   ]
  },
  {
   "cell_type": "code",
   "execution_count": 15,
   "metadata": {},
   "outputs": [
    {
     "data": {
      "text/plain": [
       "Text(0, 0.5, 'Number of Players')"
      ]
     },
     "execution_count": 15,
     "metadata": {},
     "output_type": "execute_result"
    },
    {
     "data": {
      "image/png": "[encoded data removed]",
      "text/plain": [
       "<Figure size 432x288 with 1 Axes>"
      ]
     },
     "metadata": {
      "needs_background": "light"
     },
     "output_type": "display_data"
    }
   ],
   "source": [
    "home_runs = pd.Series([\n",
    "    48,40,38,37,37,37,37,37,36,36,\n",
    "    35,34,34,34,33,33,33,33,33,33,\n",
    "    33,32,32,32,32,32,31,31,29,29,\n",
    "    29,29,28,28,27,27,27,27,27,25])\n",
    "hist3 = home_runs.plot(kind='hist', bins=6, color='silver', edgecolor='k')\n",
    "hist3.set_xlabel('Number of Home Runs')\n",
    "hist3.set_ylabel('Number of Players')"
   ]
  },
  {
   "cell_type": "code",
   "execution_count": 16,
   "metadata": {},
   "outputs": [],
   "source": [
    "dict2 = {'25-28': len([x for x in home_runs if 25 <= x <= 28]),\n",
    "        '29-32': len([x for x in home_runs if 29 <= x <= 32]),\n",
    "        '33-36': len([x for x in home_runs if 33 <= x <= 36]),\n",
    "        '37-40': len([x for x in home_runs if 37 <= x <= 40]),\n",
    "        '41-44': len([x for x in home_runs if 41 <= x <= 44]),\n",
    "        '45-48': len([x for x in home_runs if 48 <= x <= 48]),\n",
    "        }"
   ]
  },
  {
   "cell_type": "code",
   "execution_count": 17,
   "metadata": {},
   "outputs": [
    {
     "data": {
      "text/plain": [
       "Text(0, 0.5, 'Number of Players ')"
      ]
     },
     "execution_count": 17,
     "metadata": {},
     "output_type": "execute_result"
    },
    {
     "data": {
      "image/png": "[encoded data removed]",
      "text/plain": [
       "<Figure size 432x288 with 1 Axes>"
      ]
     },
     "metadata": {
      "needs_background": "light"
     },
     "output_type": "display_data"
    }
   ],
   "source": [
    "home_runs1 = pd.DataFrame.from_dict(dict2, orient='index')\n",
    "chart = home_runs1.plot(kind='bar', rot=0, width=0.8, color='silver', edgecolor='k', legend=False)\n",
    "chart.set_xlabel('Number of Home Runs')\n",
    "chart.set_ylabel('Number of Players ')"
   ]
  },
  {
   "cell_type": "markdown",
   "metadata": {},
   "source": [
    "# Bar Charts\n",
    "## Problem 1.11"
   ]
  },
  {
   "cell_type": "code",
   "execution_count": 18,
   "metadata": {},
   "outputs": [
    {
     "data": {
      "text/plain": [
       "Text(0, 0.5, 'Balance($)')"
      ]
     },
     "execution_count": 18,
     "metadata": {},
     "output_type": "execute_result"
    },
    {
     "data": {
      "image/png": "[encoded data removed]",
      "text/plain": [
       "<Figure size 432x288 with 1 Axes>"
      ]
     },
     "metadata": {
      "needs_background": "light"
     },
     "output_type": "display_data"
    }
   ],
   "source": [
    "balance = pd.Series([375, 514, 834, 603, 882, 468, 775, 585], index = [1, 2, 3, 4, 5, 6, 7, 8])\n",
    "chart2 = balance.plot(kind='bar',rot=0, width=0.8, color='silver', edgecolor='k', legend=False)\n",
    "chart2.set_xlabel('Month')\n",
    "chart2.set_ylabel('Balance($)')"
   ]
  },
  {
   "cell_type": "markdown",
   "metadata": {},
   "source": [
    "## Problem 1.12"
   ]
  },
  {
   "cell_type": "code",
   "execution_count": 19,
   "metadata": {},
   "outputs": [
    {
     "data": {
      "text/plain": [
       "Text(0, 0.5, 'Total Sales(in Dollars)')"
      ]
     },
     "execution_count": 19,
     "metadata": {},
     "output_type": "execute_result"
    },
    {
     "data": {
      "image/png": "[encoded data removed]",
      "text/plain": [
       "<Figure size 432x288 with 1 Axes>"
      ]
     },
     "metadata": {
      "needs_background": "light"
     },
     "output_type": "display_data"
    }
   ],
   "source": [
    "sales = pd.Series([10734, 8726, 14387, 11213, 9008, 8430], index = [1, 2, 3, 4, 5, 6])\n",
    "chart3 = sales.plot(kind='bar', rot=0, width=0.7, color='silver', edgecolor='k', legend=False)\n",
    "chart3.set_xlabel('Month')\n",
    "chart3.set_ylabel('Total Sales(in Dollars)')"
   ]
  },
  {
   "cell_type": "markdown",
   "metadata": {},
   "source": [
    "## Problem 1.13"
   ]
  },
  {
   "cell_type": "code",
   "execution_count": 20,
   "metadata": {},
   "outputs": [
    {
     "data": {
      "text/plain": [
       "Text(0, 0.5, 'Week')"
      ]
     },
     "execution_count": 20,
     "metadata": {},
     "output_type": "execute_result"
    },
    {
     "data": {
      "image/png": "[encoded data removed]",
      "text/plain": [
       "<Figure size 432x288 with 1 Axes>"
      ]
     },
     "metadata": {
      "needs_background": "light"
     },
     "output_type": "display_data"
    }
   ],
   "source": [
    "donations = pd.Series([2070, 2247, 1850, 2771, 1955, 2412, 1782], index = [1,2,3,4,5,6,7])\n",
    "chart4 = donations.plot(kind='barh', width=0.8, color='silver', edgecolor='k', legend=False)\n",
    "chart4.invert_yaxis()\n",
    "chart4.set_xlabel('Dollars')\n",
    "chart4.set_ylabel('Week')"
   ]
  },
  {
   "cell_type": "markdown",
   "metadata": {},
   "source": [
    "## Problem 1.14"
   ]
  },
  {
   "cell_type": "code",
   "execution_count": 21,
   "metadata": {},
   "outputs": [
    {
     "data": {
      "text/plain": [
       "Text(0, 0.5, '2008 Wins')"
      ]
     },
     "execution_count": 21,
     "metadata": {},
     "output_type": "execute_result"
    },
    {
     "data": {
      "image/png": "[encoded data removed]",
      "text/plain": [
       "<Figure size 432x288 with 1 Axes>"
      ]
     },
     "metadata": {
      "needs_background": "light"
     },
     "output_type": "display_data"
    }
   ],
   "source": [
    "teams = ['Phillies', 'Mets', 'Marlins', 'Braves', 'Nationals']\n",
    "wins = [92, 89, 84, 72, 59]\n",
    "plt.bar(teams, wins, color='silver', edgecolor='k')\n",
    "plt.xlabel('National League East Division Teams')\n",
    "plt.ylabel('2008 Wins')"
   ]
  },
  {
   "cell_type": "markdown",
   "metadata": {},
   "source": [
    "## Problem 1.15"
   ]
  },
  {
   "cell_type": "code",
   "execution_count": 22,
   "metadata": {},
   "outputs": [
    {
     "data": {
      "text/plain": [
       "Text(0, 0.5, 'Units Sold')"
      ]
     },
     "execution_count": 22,
     "metadata": {},
     "output_type": "execute_result"
    },
    {
     "data": {
      "image/png": "[encoded data removed]",
      "text/plain": [
       "<Figure size 432x288 with 1 Axes>"
      ]
     },
     "metadata": {
      "needs_background": "light"
     },
     "output_type": "display_data"
    }
   ],
   "source": [
    "stores = {'Store 1': [502, 428, 683, 419], 'Store 2': [438, 509, 562, 575]}\n",
    "df4 = pd.DataFrame(stores, index = [1, 2, 3, 4])\n",
    "chart5 = df4.plot(kind='bar', rot=0, color=['grey','silver'], edgecolor='k', width=0.7)\n",
    "chart5.set_xlabel('Week')\n",
    "chart5.set_ylabel('Units Sold')"
   ]
  },
  {
   "cell_type": "markdown",
   "metadata": {},
   "source": [
    "## Problem 1.16"
   ]
  },
  {
   "cell_type": "code",
   "execution_count": 23,
   "metadata": {},
   "outputs": [
    {
     "data": {
      "text/plain": [
       "Text(0, 0.5, 'Units Sold')"
      ]
     },
     "execution_count": 23,
     "metadata": {},
     "output_type": "execute_result"
    },
    {
     "data": {
      "image/png": "[encoded data removed]",
      "text/plain": [
       "<Figure size 432x288 with 1 Axes>"
      ]
     },
     "metadata": {
      "needs_background": "light"
     },
     "output_type": "display_data"
    }
   ],
   "source": [
    "chart6 = df4.plot(kind='bar', rot=0, stacked=True, color=['grey','silver'], edgecolor='k', width=0.7)\n",
    "chart6.set_xlabel('Week')\n",
    "chart6.set_ylabel('Units Sold')"
   ]
  },
  {
   "cell_type": "markdown",
   "metadata": {},
   "source": [
    "## Problem 1.17\n",
    "\n",
    "Note: be aware that constructing the DataFrame from a nested dictionary like below would reorganise the rows in the sorted order of index. \n",
    "\n",
    "    investments = {'Savings': {'Investor 1': 7.2, 'Investor 2': 15.0, 'Investor 3': 12.9},\n",
    "                   'Bonds': {'Investor 1': 3.8, 'Investor 2': 9.6, 'Investor 3': 7.4}, \n",
    "                   'Stocks': {'Investor 1': 11.7, 'Investor 2': 8.0, 'Investor 3': 6.8}} \n",
    "    df5 = pd.DataFrame.from_dict(investments, orient = 'index')"
   ]
  },
  {
   "cell_type": "code",
   "execution_count": 24,
   "metadata": {},
   "outputs": [
    {
     "data": {
      "text/plain": [
       "Text(0.5, 0, 'Thousand of Dollars')"
      ]
     },
     "execution_count": 24,
     "metadata": {},
     "output_type": "execute_result"
    },
    {
     "data": {
      "image/png": "[encoded data removed]",
      "text/plain": [
       "<Figure size 432x288 with 1 Axes>"
      ]
     },
     "metadata": {
      "needs_background": "light"
     },
     "output_type": "display_data"
    }
   ],
   "source": [
    "investments = {'Investor 1': [7.2, 3.8, 11.7],\n",
    "              'Investor 2': [15.0, 9.6, 8.0],\n",
    "              'Investor 3': [12.9, 7.4, 6.8]}\n",
    "df5 = pd.DataFrame(investments, index =['Savings', 'Bonds', 'Stocks'])\n",
    "chart7= df5.T.plot.barh(color=['grey','silver', 'whitesmoke'], edgecolor='k', width=0.7)\n",
    "chart7.invert_yaxis()\n",
    "chart7.set_xlabel('Thousand of Dollars')"
   ]
  },
  {
   "cell_type": "markdown",
   "metadata": {},
   "source": [
    "## Problem 1.18"
   ]
  },
  {
   "cell_type": "code",
   "execution_count": 25,
   "metadata": {},
   "outputs": [
    {
     "data": {
      "text/plain": [
       "Text(0.5, 0, 'Thousand of Dollars')"
      ]
     },
     "execution_count": 25,
     "metadata": {},
     "output_type": "execute_result"
    },
    {
     "data": {
      "image/png": "[encoded data removed]",
      "text/plain": [
       "<Figure size 432x288 with 1 Axes>"
      ]
     },
     "metadata": {
      "needs_background": "light"
     },
     "output_type": "display_data"
    }
   ],
   "source": [
    "chart8 = df5.plot(kind='barh', color=['grey','silver', 'whitesmoke'], edgecolor='k', width=0.7)\n",
    "chart8.invert_yaxis()\n",
    "chart8.set_xlabel('Thousand of Dollars')"
   ]
  },
  {
   "cell_type": "markdown",
   "metadata": {},
   "source": [
    "## Problem 1.19"
   ]
  },
  {
   "cell_type": "code",
   "execution_count": 26,
   "metadata": {},
   "outputs": [
    {
     "data": {
      "text/plain": [
       "Text(0.5, 0, 'Thousand of Dollars')"
      ]
     },
     "execution_count": 26,
     "metadata": {},
     "output_type": "execute_result"
    },
    {
     "data": {
      "image/png": "[encoded data removed]",
      "text/plain": [
       "<Figure size 432x288 with 1 Axes>"
      ]
     },
     "metadata": {
      "needs_background": "light"
     },
     "output_type": "display_data"
    }
   ],
   "source": [
    "chart9 = df5.T.plot(kind='barh', stacked=True, color=['grey','silver', 'whitesmoke'], edgecolor='k', width=0.7)\n",
    "chart9.invert_yaxis()\n",
    "chart9.set_xlabel('Thousand of Dollars')"
   ]
  },
  {
   "cell_type": "markdown",
   "metadata": {},
   "source": [
    "## Problem 1.20"
   ]
  },
  {
   "cell_type": "code",
   "execution_count": 27,
   "metadata": {},
   "outputs": [
    {
     "data": {
      "text/plain": [
       "Text(0.5, 0, 'Thousand of Dollars')"
      ]
     },
     "execution_count": 27,
     "metadata": {},
     "output_type": "execute_result"
    },
    {
     "data": {
      "image/png": "[encoded data removed]",
      "text/plain": [
       "<Figure size 432x288 with 1 Axes>"
      ]
     },
     "metadata": {
      "needs_background": "light"
     },
     "output_type": "display_data"
    }
   ],
   "source": [
    "chart10 = df5.plot(kind='barh', stacked=True, color=['grey','silver', 'whitesmoke'], edgecolor='k', width=0.7)\n",
    "chart10.invert_yaxis()\n",
    "chart10.set_xlabel('Thousand of Dollars')"
   ]
  },
  {
   "cell_type": "markdown",
   "metadata": {},
   "source": [
    "# Pie Charts\n",
    "## Problem 1.21\n",
    "\n",
    "Note: Relative Frequency and Central Angle do not have to be computed for ploting data on a pie chart. They are computed here to follow the book's instructions."
   ]
  },
  {
   "cell_type": "code",
   "execution_count": 28,
   "metadata": {},
   "outputs": [
    {
     "data": {
      "text/html": [
       "<div>\n",
       "<style scoped>\n",
       "    .dataframe tbody tr th:only-of-type {\n",
       "        vertical-align: middle;\n",
       "    }\n",
       "\n",
       "    .dataframe tbody tr th {\n",
       "        vertical-align: top;\n",
       "    }\n",
       "\n",
       "    .dataframe thead th {\n",
       "        text-align: right;\n",
       "    }\n",
       "</style>\n",
       "<table border=\"1\" class=\"dataframe\">\n",
       "  <thead>\n",
       "    <tr style=\"text-align: right;\">\n",
       "      <th></th>\n",
       "      <th>Number of Students</th>\n",
       "      <th>Relative Frequency</th>\n",
       "      <th>Central Angle</th>\n",
       "    </tr>\n",
       "    <tr>\n",
       "      <th>Grade</th>\n",
       "      <th></th>\n",
       "      <th></th>\n",
       "      <th></th>\n",
       "    </tr>\n",
       "  </thead>\n",
       "  <tbody>\n",
       "    <tr>\n",
       "      <th>A</th>\n",
       "      <td>9</td>\n",
       "      <td>0.300000</td>\n",
       "      <td>108.0</td>\n",
       "    </tr>\n",
       "    <tr>\n",
       "      <th>B</th>\n",
       "      <td>12</td>\n",
       "      <td>0.400000</td>\n",
       "      <td>144.0</td>\n",
       "    </tr>\n",
       "    <tr>\n",
       "      <th>C</th>\n",
       "      <td>7</td>\n",
       "      <td>0.233333</td>\n",
       "      <td>84.0</td>\n",
       "    </tr>\n",
       "    <tr>\n",
       "      <th>D</th>\n",
       "      <td>2</td>\n",
       "      <td>0.066667</td>\n",
       "      <td>24.0</td>\n",
       "    </tr>\n",
       "    <tr>\n",
       "      <th>Total</th>\n",
       "      <td>30</td>\n",
       "      <td>1.000000</td>\n",
       "      <td>360.0</td>\n",
       "    </tr>\n",
       "  </tbody>\n",
       "</table>\n",
       "</div>"
      ],
      "text/plain": [
       "       Number of Students  Relative Frequency  Central Angle\n",
       "Grade                                                       \n",
       "A                       9            0.300000          108.0\n",
       "B                      12            0.400000          144.0\n",
       "C                       7            0.233333           84.0\n",
       "D                       2            0.066667           24.0\n",
       "Total                  30            1.000000          360.0"
      ]
     },
     "execution_count": 28,
     "metadata": {},
     "output_type": "execute_result"
    }
   ],
   "source": [
    "students = pd.DataFrame({'Number of Students': [9, 12, 7, 2]}, \n",
    "                        index = ['A', 'B', 'C', 'D'])\n",
    "students.index.name = 'Grade'\n",
    "students.loc['Total'] = students.sum()\n",
    "students['Relative Frequency'] = students['Number of Students'] / students.loc['Total', 'Number of Students']\n",
    "students['Central Angle'] = students['Relative Frequency'] * 360\n",
    "students"
   ]
  },
  {
   "cell_type": "code",
   "execution_count": 29,
   "metadata": {},
   "outputs": [
    {
     "data": {
      "image/png": "[encoded data removed]",
      "text/plain": [
       "<Figure size 432x288 with 1 Axes>"
      ]
     },
     "metadata": {},
     "output_type": "display_data"
    }
   ],
   "source": [
    "chart11 = students[:-1].plot.pie(y = 'Number of Students', legend=False)\n",
    "chart11.invert_yaxis()"
   ]
  },
  {
   "cell_type": "markdown",
   "metadata": {},
   "source": [
    "## Problem 1.22\n",
    "Note: Relative Frequency and Central Angle are not required for ploting data on a pie chart. They are computed here to follow the book's instructions."
   ]
  },
  {
   "cell_type": "code",
   "execution_count": 30,
   "metadata": {},
   "outputs": [
    {
     "data": {
      "text/html": [
       "<div>\n",
       "<style scoped>\n",
       "    .dataframe tbody tr th:only-of-type {\n",
       "        vertical-align: middle;\n",
       "    }\n",
       "\n",
       "    .dataframe tbody tr th {\n",
       "        vertical-align: top;\n",
       "    }\n",
       "\n",
       "    .dataframe thead th {\n",
       "        text-align: right;\n",
       "    }\n",
       "</style>\n",
       "<table border=\"1\" class=\"dataframe\">\n",
       "  <thead>\n",
       "    <tr style=\"text-align: right;\">\n",
       "      <th></th>\n",
       "      <th>Number of Wins</th>\n",
       "      <th>Relative Frequency</th>\n",
       "      <th>Central Angle</th>\n",
       "    </tr>\n",
       "    <tr>\n",
       "      <th>Wins</th>\n",
       "      <th></th>\n",
       "      <th></th>\n",
       "      <th></th>\n",
       "    </tr>\n",
       "  </thead>\n",
       "  <tbody>\n",
       "    <tr>\n",
       "      <th>2003</th>\n",
       "      <td>10</td>\n",
       "      <td>0.222222</td>\n",
       "      <td>80.0</td>\n",
       "    </tr>\n",
       "    <tr>\n",
       "      <th>2004</th>\n",
       "      <td>10</td>\n",
       "      <td>0.222222</td>\n",
       "      <td>80.0</td>\n",
       "    </tr>\n",
       "    <tr>\n",
       "      <th>2005</th>\n",
       "      <td>4</td>\n",
       "      <td>0.088889</td>\n",
       "      <td>32.0</td>\n",
       "    </tr>\n",
       "    <tr>\n",
       "      <th>2006</th>\n",
       "      <td>8</td>\n",
       "      <td>0.177778</td>\n",
       "      <td>64.0</td>\n",
       "    </tr>\n",
       "    <tr>\n",
       "      <th>2007</th>\n",
       "      <td>13</td>\n",
       "      <td>0.288889</td>\n",
       "      <td>104.0</td>\n",
       "    </tr>\n",
       "    <tr>\n",
       "      <th>Total</th>\n",
       "      <td>45</td>\n",
       "      <td>1.000000</td>\n",
       "      <td>360.0</td>\n",
       "    </tr>\n",
       "  </tbody>\n",
       "</table>\n",
       "</div>"
      ],
      "text/plain": [
       "       Number of Wins  Relative Frequency  Central Angle\n",
       "Wins                                                    \n",
       "2003               10            0.222222           80.0\n",
       "2004               10            0.222222           80.0\n",
       "2005                4            0.088889           32.0\n",
       "2006                8            0.177778           64.0\n",
       "2007               13            0.288889          104.0\n",
       "Total              45            1.000000          360.0"
      ]
     },
     "execution_count": 30,
     "metadata": {},
     "output_type": "execute_result"
    }
   ],
   "source": [
    "wins = pd.DataFrame({'Number of Wins': [10, 10, 4, 8, 13]}, \n",
    "                    index = [2003, 2004, 2005, 2006, 2007])\n",
    "wins.index.name = 'Wins'\n",
    "wins.loc['Total'] = wins.sum()\n",
    "wins['Relative Frequency'] = wins ['Number of Wins'] / wins.loc['Total', 'Number of Wins']\n",
    "wins['Central Angle'] = wins ['Relative Frequency'] * 360\n",
    "wins"
   ]
  },
  {
   "cell_type": "code",
   "execution_count": 31,
   "metadata": {},
   "outputs": [
    {
     "data": {
      "image/png": "[encoded data removed]",
      "text/plain": [
       "<Figure size 432x288 with 1 Axes>"
      ]
     },
     "metadata": {},
     "output_type": "display_data"
    }
   ],
   "source": [
    "chart12 = wins[:-1].plot.pie(y = 'Number of Wins', legend=False)\n",
    "chart12.invert_yaxis()"
   ]
  },
  {
   "cell_type": "markdown",
   "metadata": {},
   "source": [
    "## Problem 1.23\n",
    "Note: Percentage and Central Angle are not required for ploting data on a pie chart. They are computed here to follow the book's instructions."
   ]
  },
  {
   "cell_type": "code",
   "execution_count": 32,
   "metadata": {},
   "outputs": [
    {
     "data": {
      "text/html": [
       "<div>\n",
       "<style scoped>\n",
       "    .dataframe tbody tr th:only-of-type {\n",
       "        vertical-align: middle;\n",
       "    }\n",
       "\n",
       "    .dataframe tbody tr th {\n",
       "        vertical-align: top;\n",
       "    }\n",
       "\n",
       "    .dataframe thead th {\n",
       "        text-align: right;\n",
       "    }\n",
       "</style>\n",
       "<table border=\"1\" class=\"dataframe\">\n",
       "  <thead>\n",
       "    <tr style=\"text-align: right;\">\n",
       "      <th></th>\n",
       "      <th>Dollars</th>\n",
       "      <th>Percentage</th>\n",
       "      <th>Central Angle</th>\n",
       "    </tr>\n",
       "    <tr>\n",
       "      <th>Investment</th>\n",
       "      <th></th>\n",
       "      <th></th>\n",
       "      <th></th>\n",
       "    </tr>\n",
       "  </thead>\n",
       "  <tbody>\n",
       "    <tr>\n",
       "      <th>Savings</th>\n",
       "      <td>9000</td>\n",
       "      <td>0.115385</td>\n",
       "      <td>41.538462</td>\n",
       "    </tr>\n",
       "    <tr>\n",
       "      <th>Bonds</th>\n",
       "      <td>12800</td>\n",
       "      <td>0.164103</td>\n",
       "      <td>59.076923</td>\n",
       "    </tr>\n",
       "    <tr>\n",
       "      <th>CDs</th>\n",
       "      <td>21700</td>\n",
       "      <td>0.278205</td>\n",
       "      <td>100.153846</td>\n",
       "    </tr>\n",
       "    <tr>\n",
       "      <th>Stocks</th>\n",
       "      <td>34500</td>\n",
       "      <td>0.442308</td>\n",
       "      <td>159.230769</td>\n",
       "    </tr>\n",
       "    <tr>\n",
       "      <th>Total</th>\n",
       "      <td>78000</td>\n",
       "      <td>1.000000</td>\n",
       "      <td>360.000000</td>\n",
       "    </tr>\n",
       "  </tbody>\n",
       "</table>\n",
       "</div>"
      ],
      "text/plain": [
       "            Dollars  Percentage  Central Angle\n",
       "Investment                                    \n",
       "Savings        9000    0.115385      41.538462\n",
       "Bonds         12800    0.164103      59.076923\n",
       "CDs           21700    0.278205     100.153846\n",
       "Stocks        34500    0.442308     159.230769\n",
       "Total         78000    1.000000     360.000000"
      ]
     },
     "execution_count": 32,
     "metadata": {},
     "output_type": "execute_result"
    }
   ],
   "source": [
    "invest = pd.DataFrame({'Dollars': [9000, 12800, 21700, 34500]}, \n",
    "                      index = ['Savings', 'Bonds', 'CDs', 'Stocks'])\n",
    "invest.index.name = 'Investment'\n",
    "invest.loc['Total'] = invest.sum()\n",
    "invest['Percentage'] = invest['Dollars'] / invest.loc['Total', 'Dollars']\n",
    "invest['Central Angle'] = invest['Percentage'] * 360\n",
    "invest"
   ]
  },
  {
   "cell_type": "code",
   "execution_count": 33,
   "metadata": {},
   "outputs": [
    {
     "data": {
      "image/png": "[encoded data removed]",
      "text/plain": [
       "<Figure size 432x288 with 1 Axes>"
      ]
     },
     "metadata": {},
     "output_type": "display_data"
    }
   ],
   "source": [
    "chart13 = invest[:-1].plot.pie(y='Dollars', legend=False)\n",
    "chart13.invert_yaxis()"
   ]
  },
  {
   "cell_type": "markdown",
   "metadata": {},
   "source": [
    "## Problem 1.24\n",
    "Note: Relative Frequency and Central Angle are not required for ploting data on a pie chart. They are computed here to follow the book's instructions."
   ]
  },
  {
   "cell_type": "code",
   "execution_count": 34,
   "metadata": {},
   "outputs": [
    {
     "data": {
      "text/html": [
       "<div>\n",
       "<style scoped>\n",
       "    .dataframe tbody tr th:only-of-type {\n",
       "        vertical-align: middle;\n",
       "    }\n",
       "\n",
       "    .dataframe tbody tr th {\n",
       "        vertical-align: top;\n",
       "    }\n",
       "\n",
       "    .dataframe thead th {\n",
       "        text-align: right;\n",
       "    }\n",
       "</style>\n",
       "<table border=\"1\" class=\"dataframe\">\n",
       "  <thead>\n",
       "    <tr style=\"text-align: right;\">\n",
       "      <th></th>\n",
       "      <th>Frequency</th>\n",
       "      <th>Relative Frequency</th>\n",
       "      <th>Central Angle</th>\n",
       "    </tr>\n",
       "    <tr>\n",
       "      <th>Daily High Tenperature</th>\n",
       "      <th></th>\n",
       "      <th></th>\n",
       "      <th></th>\n",
       "    </tr>\n",
       "  </thead>\n",
       "  <tbody>\n",
       "    <tr>\n",
       "      <th>40-under 45</th>\n",
       "      <td>6</td>\n",
       "      <td>0.150</td>\n",
       "      <td>54.0</td>\n",
       "    </tr>\n",
       "    <tr>\n",
       "      <th>45-under 50</th>\n",
       "      <td>12</td>\n",
       "      <td>0.300</td>\n",
       "      <td>108.0</td>\n",
       "    </tr>\n",
       "    <tr>\n",
       "      <th>50-under 55</th>\n",
       "      <td>17</td>\n",
       "      <td>0.425</td>\n",
       "      <td>153.0</td>\n",
       "    </tr>\n",
       "    <tr>\n",
       "      <th>55-under 60</th>\n",
       "      <td>5</td>\n",
       "      <td>0.125</td>\n",
       "      <td>45.0</td>\n",
       "    </tr>\n",
       "    <tr>\n",
       "      <th>Total</th>\n",
       "      <td>40</td>\n",
       "      <td>1.000</td>\n",
       "      <td>360.0</td>\n",
       "    </tr>\n",
       "  </tbody>\n",
       "</table>\n",
       "</div>"
      ],
      "text/plain": [
       "                        Frequency  Relative Frequency  Central Angle\n",
       "Daily High Tenperature                                              \n",
       "40-under 45                     6               0.150           54.0\n",
       "45-under 50                    12               0.300          108.0\n",
       "50-under 55                    17               0.425          153.0\n",
       "55-under 60                     5               0.125           45.0\n",
       "Total                          40               1.000          360.0"
      ]
     },
     "execution_count": 34,
     "metadata": {},
     "output_type": "execute_result"
    }
   ],
   "source": [
    "tmp = pd.DataFrame({'Frequency': [6, 12, 17, 5]}, \n",
    "                           index = ['40-under 45', '45-under 50', '50-under 55', '55-under 60'])\n",
    "tmp.index.name = 'Daily High Tenperature'\n",
    "tmp.loc['Total'] = tmp.sum()\n",
    "tmp['Relative Frequency'] = tmp['Frequency'] / tmp.loc['Total', 'Frequency']\n",
    "tmp['Central Angle'] = tmp['Relative Frequency'] * 360\n",
    "tmp"
   ]
  },
  {
   "cell_type": "code",
   "execution_count": 35,
   "metadata": {},
   "outputs": [
    {
     "data": {
      "text/plain": [
       "<bound method _AxesBase.invert_yaxis of <matplotlib.axes._subplots.AxesSubplot object at 0x11b6a2160>>"
      ]
     },
     "execution_count": 35,
     "metadata": {},
     "output_type": "execute_result"
    },
    {
     "data": {
      "image/png": "[encoded data removed]",
      "text/plain": [
       "<Figure size 432x288 with 1 Axes>"
      ]
     },
     "metadata": {},
     "output_type": "display_data"
    }
   ],
   "source": [
    "chart14 = tmp[:-1].plot.pie(y='Frequency', legend=False)\n",
    "chart14.invert_yaxis"
   ]
  },
  {
   "cell_type": "markdown",
   "metadata": {},
   "source": [
    "# Line Charts\n",
    "## Problem 1.25"
   ]
  },
  {
   "cell_type": "code",
   "execution_count": 36,
   "metadata": {},
   "outputs": [
    {
     "data": {
      "text/plain": [
       "Text(0, 0.5, 'Wins')"
      ]
     },
     "execution_count": 36,
     "metadata": {},
     "output_type": "execute_result"
    },
    {
     "data": {
      "image/png": "[encoded data removed]",
      "text/plain": [
       "<Figure size 432x288 with 1 Axes>"
      ]
     },
     "metadata": {
      "needs_background": "light"
     },
     "output_type": "display_data"
    }
   ],
   "source": [
    "wins = pd.Series([80, 86, 86, 88, 85, 89, 92], \n",
    "                 index = [2002, 2003, 2004, 2005, 2006, 2007, 2008])\n",
    "plt.plot(wins.index, wins[:], color='grey', marker='s')\n",
    "plt.xlabel('Year')\n",
    "plt.ylabel('Wins')"
   ]
  },
  {
   "cell_type": "markdown",
   "metadata": {},
   "source": [
    "## Problem 1.26"
   ]
  },
  {
   "cell_type": "code",
   "execution_count": 37,
   "metadata": {},
   "outputs": [
    {
     "data": {
      "text/plain": [
       "Text(0, 0.5, 'Percentage Change')"
      ]
     },
     "execution_count": 37,
     "metadata": {},
     "output_type": "execute_result"
    },
    {
     "data": {
      "image/png": "[encoded data removed]",
      "text/plain": [
       "<Figure size 432x288 with 1 Axes>"
      ]
     },
     "metadata": {
      "needs_background": "light"
     },
     "output_type": "display_data"
    }
   ],
   "source": [
    "change = pd.Series([3.8, -2.1, -3.6, 3.0, 4.0, 0.6, 2.4],\n",
    "                   index = [2001, 2002, 2003, 2004, 2005, 2006, 2007])\n",
    "plt.plot(change.index, change[:], color = 'grey', marker ='s')\n",
    "plt.xlabel('Year')\n",
    "plt.ylabel('Percentage Change')"
   ]
  },
  {
   "cell_type": "markdown",
   "metadata": {},
   "source": [
    "## Problem 1.27"
   ]
  },
  {
   "cell_type": "code",
   "execution_count": 38,
   "metadata": {},
   "outputs": [
    {
     "data": {
      "text/plain": [
       "Text(0, 0.5, 'Population')"
      ]
     },
     "execution_count": 38,
     "metadata": {},
     "output_type": "execute_result"
    },
    {
     "data": {
      "image/png": "[encoded data removed]",
      "text/plain": [
       "<Figure size 432x288 with 1 Axes>"
      ]
     },
     "metadata": {
      "needs_background": "light"
     },
     "output_type": "display_data"
    }
   ],
   "source": [
    "population = pd.Series([64273, 72674, 72749, 76748, 78085, 91532, 112532], \n",
    "                      index = [1800, 1810, 1820, 1830, 1840, 1850, 1860])\n",
    "plt.plot(population.index, population[:], color='grey', marker='s')\n",
    "plt.xlabel('Year')\n",
    "plt.ylabel('Population')"
   ]
  },
  {
   "cell_type": "markdown",
   "metadata": {},
   "source": [
    "# Scatter Charts\n",
    "## Problem 1.28"
   ]
  },
  {
   "cell_type": "code",
   "execution_count": 39,
   "metadata": {},
   "outputs": [
    {
     "data": {
      "text/plain": [
       "Text(0, 0.5, 'Exam Scores')"
      ]
     },
     "execution_count": 39,
     "metadata": {},
     "output_type": "execute_result"
    },
    {
     "data": {
      "image/png": "[encoded data removed]",
      "text/plain": [
       "<Figure size 432x288 with 1 Axes>"
      ]
     },
     "metadata": {
      "needs_background": "light"
     },
     "output_type": "display_data"
    }
   ],
   "source": [
    "score = pd.Series([84, 92, 82, 80, 90, 78, 74, 75],\n",
    "                 index = [5, 7, 4.5, 7, 8, 6.5, 5.5, 4])\n",
    "plt.scatter(score.index, score[:], color='k',alpha=0.5, marker='s')\n",
    "plt.xlabel('Hours Studied')\n",
    "plt.ylabel('Exam Scores')"
   ]
  },
  {
   "cell_type": "markdown",
   "metadata": {},
   "source": [
    "## Problem 1.29"
   ]
  },
  {
   "cell_type": "code",
   "execution_count": 40,
   "metadata": {},
   "outputs": [
    {
     "data": {
      "text/plain": [
       "Text(0, 0.5, 'Selling Price (in Dollars)')"
      ]
     },
     "execution_count": 40,
     "metadata": {},
     "output_type": "execute_result"
    },
    {
     "data": {
      "image/png": "[encoded data removed]",
      "text/plain": [
       "<Figure size 432x288 with 1 Axes>"
      ]
     },
     "metadata": {
      "needs_background": "light"
     },
     "output_type": "display_data"
    }
   ],
   "source": [
    "price = pd.Series([16000, 11500, 13400, 14800, 10500, 12300, 8200, 9500],\n",
    "                 index = [21800, 34000, 41700, 53500, 65800, 72100, 76500, 84700])\n",
    "plt.scatter(price.index, price[:], color='k',alpha=0.4, marker='s')\n",
    "plt.xlabel('Mileage')\n",
    "plt.ylabel('Selling Price (in Dollars)')"
   ]
  },
  {
   "cell_type": "markdown",
   "metadata": {},
   "source": [
    "## Problem 1.30"
   ]
  },
  {
   "cell_type": "code",
   "execution_count": 41,
   "metadata": {},
   "outputs": [
    {
     "data": {
      "text/plain": [
       "Text(0, 0.5, 'GPA')"
      ]
     },
     "execution_count": 41,
     "metadata": {},
     "output_type": "execute_result"
    },
    {
     "data": {
      "image/png": "[encoded data removed]",
      "text/plain": [
       "<Figure size 432x288 with 1 Axes>"
      ]
     },
     "metadata": {
      "needs_background": "light"
     },
     "output_type": "display_data"
    }
   ],
   "source": [
    "gmat = pd.Series([660, 580, 450, 710, 550, 600, 510, 750],\n",
    "                index = [3.7, 3.8, 3.2, 4.0, 3.5, 3.1, 3.3, 3.6])\n",
    "plt.scatter(gmat[:], gmat.index, color='k', alpha=0.5, marker='s')\n",
    "plt.xlabel('GMAT')\n",
    "plt.ylabel('GPA')"
   ]
  }
 ],
 "metadata": {
  "kernelspec": {
   "display_name": "3.7",
   "language": "python",
   "name": "3.7"
  },
  "language_info": {
   "codemirror_mode": {
    "name": "ipython",
    "version": 3
   },
   "file_extension": ".py",
   "mimetype": "text/x-python",
   "name": "python",
   "nbconvert_exporter": "python",
   "pygments_lexer": "ipython3",
   "version": "3.7.3"
  }
 },
 "nbformat": 4,
 "nbformat_minor": 2
}
