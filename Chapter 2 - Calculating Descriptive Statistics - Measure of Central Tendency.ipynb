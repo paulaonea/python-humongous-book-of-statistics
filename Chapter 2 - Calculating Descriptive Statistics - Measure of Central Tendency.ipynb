{
 "cells": [
  {
   "cell_type": "code",
   "execution_count": 1,
   "metadata": {},
   "outputs": [],
   "source": [
    "import pandas as pd\n",
    "import numpy as np\n",
    "import matplotlib.pyplot as plt\n",
    "from scipy import stats"
   ]
  },
  {
   "cell_type": "markdown",
   "metadata": {},
   "source": [
    "# Mean\n",
    "## Problem 2.1"
   ]
  },
  {
   "cell_type": "code",
   "execution_count": 2,
   "metadata": {},
   "outputs": [
    {
     "data": {
      "text/plain": [
       "21.2"
      ]
     },
     "execution_count": 2,
     "metadata": {},
     "output_type": "execute_result"
    }
   ],
   "source": [
    "students = np.array([18, 22, 25, 26, 15])\n",
    "np.mean(students)"
   ]
  },
  {
   "cell_type": "markdown",
   "metadata": {},
   "source": [
    "## Problem 2.2"
   ]
  },
  {
   "cell_type": "code",
   "execution_count": 3,
   "metadata": {},
   "outputs": [
    {
     "data": {
      "text/plain": [
       "33.2"
      ]
     },
     "execution_count": 3,
     "metadata": {},
     "output_type": "execute_result"
    }
   ],
   "source": [
    "no_students = np.array([18, 22, 25, 26, 75])\n",
    "np.mean(no_students)"
   ]
  },
  {
   "cell_type": "markdown",
   "metadata": {},
   "source": [
    "## Problem 2.3"
   ]
  },
  {
   "cell_type": "code",
   "execution_count": 4,
   "metadata": {},
   "outputs": [
    {
     "name": "stdout",
     "output_type": "stream",
     "text": [
      "3.9 minutes\n"
     ]
    }
   ],
   "source": [
    "no_minutes = np.array([6, 4, 2, 5, 4, 1, 5])\n",
    "print(np.around(np.mean(no_minutes), decimals = 1), 'minutes')"
   ]
  },
  {
   "cell_type": "markdown",
   "metadata": {},
   "source": [
    "## Problem 2.4"
   ]
  },
  {
   "cell_type": "code",
   "execution_count": 5,
   "metadata": {},
   "outputs": [
    {
     "name": "stdout",
     "output_type": "stream",
     "text": [
      "Model B averages the most miles per gallon at 23.4 mpg.\n"
     ]
    }
   ],
   "source": [
    "mileage = {'Model A': [22, 24, 19, 25, 20], \n",
    "           'Model B': [21, 25, 27, 23, 21]}\n",
    "mileage_df = pd.DataFrame.from_dict(mileage, orient = 'index', \n",
    "                                    columns = ['Trial 1', 'Trial 2', 'Trial 3', 'Trial 4', 'Trial 5'])\n",
    "mileage_df['Mean MPG'] = mileage_df.mean(axis =1)\n",
    "print(mileage_df['Mean MPG'].idxmax(), 'averages the most miles per gallon at', mileage_df['Mean MPG'].max(), 'mpg.')"
   ]
  },
  {
   "cell_type": "markdown",
   "metadata": {},
   "source": [
    "## Problem 2.5"
   ]
  },
  {
   "cell_type": "code",
   "execution_count": 6,
   "metadata": {},
   "outputs": [
    {
     "name": "stdout",
     "output_type": "stream",
     "text": [
      "The average flight is  8.62 minutes late.\n"
     ]
    }
   ],
   "source": [
    "minutes_late = np.array([12, -10, 32, -4, 0, 16, 5, 18])\n",
    "print('The average flight is ',np.around(np.mean(minutes_late), decimals=2), 'minutes late.')"
   ]
  },
  {
   "cell_type": "markdown",
   "metadata": {},
   "source": [
    "## Problem 2.6"
   ]
  },
  {
   "cell_type": "code",
   "execution_count": 7,
   "metadata": {},
   "outputs": [
    {
     "name": "stdout",
     "output_type": "stream",
     "text": [
      "The stock price decrease an average of 1.76 percent per day\n"
     ]
    }
   ],
   "source": [
    "stock_price = np.array([0.018, -0.026, -0.057, -0.039, 0.016])\n",
    "average = np.around(np.mean(stock_price) * 100, decimals = 2)\n",
    "if average > 0 : \n",
    "    print('The stock price increase an average of', average, 'percent per day')\n",
    "else: \n",
    "    print('The stock price decrease an average of', abs(average), 'percent per day')"
   ]
  },
  {
   "cell_type": "markdown",
   "metadata": {},
   "source": [
    "## Problem 2.7"
   ]
  },
  {
   "cell_type": "code",
   "execution_count": 8,
   "metadata": {},
   "outputs": [
    {
     "name": "stdout",
     "output_type": "stream",
     "text": [
      "Paul averaged the most points per game,  21.7 .\n"
     ]
    }
   ],
   "source": [
    "players = {'Kevin': [17, 16, 8, 21, 25, 28],\n",
    "          'Paul': [20, 18, 7, 36, 34, 15],\n",
    "          'Ray': [18, 9, 17, 19, 17, 12]}\n",
    "players_df = pd.DataFrame.from_dict(players, orient = 'index')\n",
    "players_df['Mean'] = players_df.mean(axis=1)\n",
    "print(players_df['Mean'].idxmax(), 'averaged the most points per game, ', \n",
    "      np.around(players_df['Mean'].max(), decimals = 1),'.')"
   ]
  },
  {
   "cell_type": "markdown",
   "metadata": {},
   "source": [
    "## Problem 2.8"
   ]
  },
  {
   "cell_type": "code",
   "execution_count": 9,
   "metadata": {},
   "outputs": [
    {
     "name": "stdout",
     "output_type": "stream",
     "text": [
      "The demand forecast for January 11 is 29.3 tires\n"
     ]
    }
   ],
   "source": [
    "demand = pd.DataFrame({'Demand': [18, 23, 14, 15, 25, 34, 29]},\n",
    "                     index = ['Jan 4', 'Jan 5', 'Jan 6', 'Jan 7', 'Jan 8', 'Jan 9', 'Jan 10'])\n",
    "demand.index.name = 'Day'\n",
    "demand.loc['Jan 11'] = np.around(demand[-3:].mean(), decimals = 1)\n",
    "print('The demand forecast for January 11 is', demand.loc['Jan 11', 'Demand'], 'tires')"
   ]
  },
  {
   "cell_type": "markdown",
   "metadata": {},
   "source": [
    "## Problem 2.9"
   ]
  },
  {
   "cell_type": "code",
   "execution_count": 10,
   "metadata": {},
   "outputs": [
    {
     "name": "stdout",
     "output_type": "stream",
     "text": [
      "The demand forecast was the most accurate on  Jan 7  and least accurate on  Jan 9 .\n"
     ]
    }
   ],
   "source": [
    "demand['Forecast'] = np.around(demand.Demand.rolling(window=3).mean().shift(1), decimals = 1)\n",
    "demand['Difference'] = np.abs(demand.Forecast - demand.Demand)\n",
    "demand.Difference.loc['Jan 11'] = np.nan\n",
    "print('The demand forecast was the most accurate on ', demand['Difference'].idxmin(),\n",
    "      ' and least accurate on ', demand['Difference'].idxmax(),'.')"
   ]
  },
  {
   "cell_type": "markdown",
   "metadata": {},
   "source": [
    "## Problem 2.10"
   ]
  },
  {
   "cell_type": "code",
   "execution_count": 11,
   "metadata": {},
   "outputs": [
    {
     "name": "stdout",
     "output_type": "stream",
     "text": [
      "The student that dropped had an exam score of 40.\n"
     ]
    }
   ],
   "source": [
    "average_10 = 85\n",
    "average_9 = 90\n",
    "score = average_10 * 10 - average_9 * 9\n",
    "print(f'The student that dropped had an exam score of {score}.')"
   ]
  },
  {
   "cell_type": "markdown",
   "metadata": {},
   "source": [
    "## Problem 2.11"
   ]
  },
  {
   "cell_type": "code",
   "execution_count": 12,
   "metadata": {},
   "outputs": [
    {
     "name": "stdout",
     "output_type": "stream",
     "text": [
      "The replacement player is 26 years old.\n"
     ]
    }
   ],
   "source": [
    "players_ages = [30, 27, 36, 24, 26, 24, 28, 25, 29, 31]\n",
    "oldest_player = np.max(players_ages)\n",
    "sum_old = sum(players_ages)\n",
    "sum_new = (np.mean(players_ages) - 1) * len(players_ages)\n",
    "new_player = oldest_player - (sum_old - sum_new)\n",
    "print(f'The replacement player is {int(new_player)} years old.')"
   ]
  },
  {
   "cell_type": "markdown",
   "metadata": {},
   "source": [
    "# Median"
   ]
  },
  {
   "cell_type": "markdown",
   "metadata": {},
   "source": [
    "## Problem 2.12"
   ]
  },
  {
   "cell_type": "code",
   "execution_count": 13,
   "metadata": {},
   "outputs": [
    {
     "name": "stdout",
     "output_type": "stream",
     "text": [
      "The median value is 85.0.\n"
     ]
    }
   ],
   "source": [
    "exam_scores = [85, 96, 75, 82, 93, 88, 80, 90, 71]\n",
    "median = np.median(exam_scores)\n",
    "print(f'The median value is {median}.')"
   ]
  },
  {
   "cell_type": "markdown",
   "metadata": {},
   "source": [
    "## Problem 2.13"
   ]
  },
  {
   "cell_type": "code",
   "execution_count": 14,
   "metadata": {},
   "outputs": [
    {
     "name": "stdout",
     "output_type": "stream",
     "text": [
      "The median value is 85.0.\n"
     ]
    }
   ],
   "source": [
    "exam_scores = [85, 96, 75, 82, 93, 88, 80, 90, 21]\n",
    "print(f'The median value is {np.median(exam_scores)}.')"
   ]
  },
  {
   "cell_type": "markdown",
   "metadata": {},
   "source": [
    "## Problem 2.14"
   ]
  },
  {
   "cell_type": "code",
   "execution_count": 15,
   "metadata": {},
   "outputs": [
    {
     "name": "stdout",
     "output_type": "stream",
     "text": [
      "The median value is 69.0.\n"
     ]
    }
   ],
   "source": [
    "temperatures = [62, 68, 73, 71, 82, 77, 74, 68, 65, 68, 69]\n",
    "print(f'The median value is {np.median(temperatures)}.')"
   ]
  },
  {
   "cell_type": "markdown",
   "metadata": {},
   "source": [
    "# Midrange"
   ]
  },
  {
   "cell_type": "markdown",
   "metadata": {},
   "source": [
    "## Problem 2.15"
   ]
  },
  {
   "cell_type": "code",
   "execution_count": 16,
   "metadata": {},
   "outputs": [
    {
     "name": "stdout",
     "output_type": "stream",
     "text": [
      "Midrange of customer ratings is  79.00.\n"
     ]
    }
   ],
   "source": [
    "customer_ratings = [92, 90, 89, 80, 62, 85, 86, 69, 78, 76, 75, 73, 81, 70, \n",
    "                    88, 65, 83, 95, 71, 94, 75, 96, 85, 80]\n",
    "print(f'Midrange of customer ratings is {(max(customer_ratings) + min(customer_ratings))/2: .2f}.')"
   ]
  },
  {
   "cell_type": "markdown",
   "metadata": {},
   "source": [
    "## Problem 2.16"
   ]
  },
  {
   "cell_type": "code",
   "execution_count": 17,
   "metadata": {},
   "outputs": [
    {
     "name": "stdout",
     "output_type": "stream",
     "text": [
      "Midrange of ATM transactions is  119.00.\n"
     ]
    }
   ],
   "source": [
    "atm_transactions = [152, 105, 123, 97, 86, 147, 126, 140, 90, 115, 139, 101, 135, 111, 133]\n",
    "print(f'Midrange of ATM transactions is {(max(atm_transactions) + min (atm_transactions)) / 2: .2f}.')"
   ]
  },
  {
   "cell_type": "markdown",
   "metadata": {},
   "source": [
    "## Problem 2.17"
   ]
  },
  {
   "cell_type": "code",
   "execution_count": 18,
   "metadata": {},
   "outputs": [
    {
     "name": "stdout",
     "output_type": "stream",
     "text": [
      "Midrange of flights arriving late or early is  11.00.\n"
     ]
    }
   ],
   "source": [
    "min_lates = [12, -10, 32, -4, 0, 16, 5, 18]\n",
    "print(f'Midrange of flights arriving late or early is {(max(min_lates) + min (min_lates)) / 2: .2f}.')"
   ]
  },
  {
   "cell_type": "markdown",
   "metadata": {},
   "source": [
    "## Problem 2.18"
   ]
  },
  {
   "cell_type": "code",
   "execution_count": 19,
   "metadata": {},
   "outputs": [
    {
     "name": "stdout",
     "output_type": "stream",
     "text": [
      "Midrange temperature during this season was -12.50\n"
     ]
    }
   ],
   "source": [
    "temperature = [-22, -23, -22, -14, -4, -2]\n",
    "print(f'Midrange temperature during this season was {(max(temperature) + min(temperature))/2: .2f}')"
   ]
  },
  {
   "cell_type": "markdown",
   "metadata": {},
   "source": [
    "# Mode"
   ]
  },
  {
   "cell_type": "markdown",
   "metadata": {},
   "source": [
    "## Problem 2.19"
   ]
  },
  {
   "cell_type": "code",
   "execution_count": 20,
   "metadata": {},
   "outputs": [],
   "source": [
    "from collections import Counter "
   ]
  },
  {
   "cell_type": "code",
   "execution_count": 21,
   "metadata": {},
   "outputs": [
    {
     "name": "stdout",
     "output_type": "stream",
     "text": [
      "The mode is 2 per day and was registered in 7 days.\n"
     ]
    }
   ],
   "source": [
    "daily_demand = [2, 3, 1, 2, 0, 3, 2, 4, 1, 2, 3, 2, 0, 2, 2, 4, 4, 3, 0, 0]\n",
    "mode, count = stats.mode(daily_demand)\n",
    "print(f'The mode is {mode[0]} per day and was registered in {count[0]} days.')"
   ]
  },
  {
   "cell_type": "markdown",
   "metadata": {},
   "source": [
    "## Problem 2.20"
   ]
  },
  {
   "cell_type": "code",
   "execution_count": 22,
   "metadata": {},
   "outputs": [
    {
     "name": "stdout",
     "output_type": "stream",
     "text": [
      "Mode is / are: 4, 5 and appear 3 times each.\n"
     ]
    }
   ],
   "source": [
    "minutes = [3, 4, 2, 5, 4, 1, 5, 5, 4]\n",
    "n = len(minutes) \n",
    "data = Counter(minutes) \n",
    "get_mode = dict(data) \n",
    "mode = [k for k, v in get_mode.items() if v == max(list(data.values()))] \n",
    "  \n",
    "if len(mode) == n: \n",
    "    print('No mode found')\n",
    "else: \n",
    "    print(f\"Mode is / are: {', '.join(map(str, mode))} and appear {max(list(data.values()))} times each.\") "
   ]
  },
  {
   "cell_type": "markdown",
   "metadata": {},
   "source": [
    "## Problem 2.21"
   ]
  },
  {
   "cell_type": "code",
   "execution_count": 23,
   "metadata": {},
   "outputs": [
    {
     "name": "stdout",
     "output_type": "stream",
     "text": [
      "No mode found.\n"
     ]
    }
   ],
   "source": [
    "ages = [27, 46, 37, 29, 58]\n",
    "n = len(ages) \n",
    "data = Counter(ages) \n",
    "get_mode = dict(data) \n",
    "mode = [k for k, v in get_mode.items() if v == max(list(data.values()))] \n",
    "  \n",
    "if len(mode) == n: \n",
    "    print('No mode found.')\n",
    "else: \n",
    "    print(f\"Mode is / are: {', '.join(map(str, mode))} and appear {max(list(data.values()))} times each.\") "
   ]
  },
  {
   "cell_type": "markdown",
   "metadata": {},
   "source": [
    "## Problem 2.22"
   ]
  },
  {
   "cell_type": "code",
   "execution_count": 24,
   "metadata": {},
   "outputs": [
    {
     "name": "stdout",
     "output_type": "stream",
     "text": [
      "Data ranges from 5 minutes to 20 minutes.\n",
      "No mode found. \n",
      "Mean of the data is 12.7. \n",
      "Median of the data is 13.5. \n",
      "Midrange of the data is 12.50\n"
     ]
    }
   ],
   "source": [
    "#Describe data:\n",
    "minutes = [17, 8, 10, 20, 16, 5, 18, 12, 15, 6]\n",
    "n = len(minutes) \n",
    "data = Counter(minutes) \n",
    "get_mode = dict(data) \n",
    "mode = [k for k, v in get_mode.items() if v == max(list(data.values()))] \n",
    "if len(mode) == n: \n",
    "    mode_message = 'No mode found.'\n",
    "else: \n",
    "    mode_message = f\"Mode is / are: {', '.join(map(str, mode))} and appear {max(list(data.values()))} times each.\" \n",
    "print(f'Data ranges from {min(minutes)} minutes to {max(minutes)} minutes.\\n{mode_message} \\n'\n",
    "      f'Mean of the data is {np.mean(minutes)}. \\n'\n",
    "      f'Median of the data is {np.median(minutes)}. \\n'\n",
    "      f'Midrange of the data is {(max(minutes) + min(minutes))/2:.2f}')\n",
    "\n",
    "          "
   ]
  },
  {
   "cell_type": "markdown",
   "metadata": {},
   "source": [
    "## Problem 2.23"
   ]
  },
  {
   "cell_type": "code",
   "execution_count": 25,
   "metadata": {},
   "outputs": [
    {
     "name": "stdout",
     "output_type": "stream",
     "text": [
      "Exam scores range from 15 marks to 96 marks.\n",
      "Midrange of the data is 55.50. \n",
      "No mode found. \n",
      "Mean of the data is 79.625. \n",
      "Median of the data is 88.5. \n",
      "\n"
     ]
    }
   ],
   "source": [
    "#Describe data:\n",
    "exam_scores = [87, 96, 91, 85, 93, 15, 80, 90]\n",
    "n = len(exam_scores) \n",
    "data = Counter(exam_scores) \n",
    "get_mode = dict(data) \n",
    "mode = [k for k, v in get_mode.items() if v == max(list(data.values()))] \n",
    "if len(mode) == n: \n",
    "    mode_message = 'No mode found.'\n",
    "else: \n",
    "    mode_message = f\"Mode is / are: {', '.join(map(str, mode))} and appear {max(list(data.values()))} times each.\" \n",
    "print(f'Exam scores range from {min(exam_scores)} marks to {max(exam_scores)} marks.\\n'\n",
    "      f'Midrange of the data is {(max(exam_scores) + min(exam_scores))/2:.2f}. \\n'\n",
    "      f'{mode_message} \\n'\n",
    "      f'Mean of the data is {np.mean(exam_scores)}. \\n'\n",
    "      f'Median of the data is {np.median(exam_scores)}. \\n')"
   ]
  }
 ],
 "metadata": {
  "kernelspec": {
   "display_name": "3.7",
   "language": "python",
   "name": "3.7"
  },
  "language_info": {
   "codemirror_mode": {
    "name": "ipython",
    "version": 3
   },
   "file_extension": ".py",
   "mimetype": "text/x-python",
   "name": "python",
   "nbconvert_exporter": "python",
   "pygments_lexer": "ipython3",
   "version": "3.7.3"
  }
 },
 "nbformat": 4,
 "nbformat_minor": 2
}
