{
 "cells": [
  {
   "cell_type": "code",
   "execution_count": 1,
   "metadata": {},
   "outputs": [],
   "source": [
    "import pandas as pd\n",
    "import numpy as np\n",
    "import matplotlib.pyplot as plt"
   ]
  },
  {
   "cell_type": "markdown",
   "metadata": {},
   "source": [
    "# Mean\n",
    "## Problem 2.1"
   ]
  },
  {
   "cell_type": "code",
   "execution_count": 2,
   "metadata": {},
   "outputs": [
    {
     "data": {
      "text/plain": [
       "21.2"
      ]
     },
     "execution_count": 2,
     "metadata": {},
     "output_type": "execute_result"
    }
   ],
   "source": [
    "students = np.array([18, 22, 25, 26, 15])\n",
    "np.mean(students)"
   ]
  },
  {
   "cell_type": "markdown",
   "metadata": {},
   "source": [
    "## Problem 2.2"
   ]
  },
  {
   "cell_type": "code",
   "execution_count": 3,
   "metadata": {},
   "outputs": [
    {
     "data": {
      "text/plain": [
       "33.2"
      ]
     },
     "execution_count": 3,
     "metadata": {},
     "output_type": "execute_result"
    }
   ],
   "source": [
    "no_students = np.array([18, 22, 25, 26, 75])\n",
    "np.mean(no_students)"
   ]
  },
  {
   "cell_type": "markdown",
   "metadata": {},
   "source": [
    "## Problem 2.3"
   ]
  },
  {
   "cell_type": "code",
   "execution_count": 4,
   "metadata": {},
   "outputs": [
    {
     "name": "stdout",
     "output_type": "stream",
     "text": [
      "3.9 minutes\n"
     ]
    }
   ],
   "source": [
    "no_minutes = np.array([6, 4, 2, 5, 4, 1, 5])\n",
    "print(np.around(np.mean(no_minutes), decimals = 1), 'minutes')"
   ]
  },
  {
   "cell_type": "markdown",
   "metadata": {},
   "source": [
    "## Problem 2.4"
   ]
  },
  {
   "cell_type": "code",
   "execution_count": 5,
   "metadata": {},
   "outputs": [
    {
     "name": "stdout",
     "output_type": "stream",
     "text": [
      "Model B averages the most miles per gallon at 23.4 mpg.\n"
     ]
    }
   ],
   "source": [
    "mileage = {'Model A': [22, 24, 19, 25, 20], \n",
    "           'Model B': [21, 25, 27, 23, 21]}\n",
    "mileage_df = pd.DataFrame.from_dict(mileage, orient = 'index', \n",
    "                                    columns = ['Trial 1', 'Trial 2', 'Trial 3', 'Trial 4', 'Trial 5'])\n",
    "mileage_df['Mean MPG'] = mileage_df.mean(axis =1)\n",
    "print(mileage_df['Mean MPG'].idxmax(), 'averages the most miles per gallon at', mileage_df['Mean MPG'].max(), 'mpg.')"
   ]
  },
  {
   "cell_type": "markdown",
   "metadata": {},
   "source": [
    "## Problem 2.5"
   ]
  },
  {
   "cell_type": "code",
   "execution_count": 6,
   "metadata": {},
   "outputs": [
    {
     "name": "stdout",
     "output_type": "stream",
     "text": [
      "The average flight is  8.62 minutes late.\n"
     ]
    }
   ],
   "source": [
    "minutes_late = np.array([12, -10, 32, -4, 0, 16, 5, 18])\n",
    "print('The average flight is ',np.around(np.mean(minutes_late), decimals=2), 'minutes late.')"
   ]
  },
  {
   "cell_type": "markdown",
   "metadata": {},
   "source": [
    "## Problem 2.6"
   ]
  },
  {
   "cell_type": "code",
   "execution_count": 7,
   "metadata": {},
   "outputs": [
    {
     "name": "stdout",
     "output_type": "stream",
     "text": [
      "The stock price decrease an average of 1.76 percent per day\n"
     ]
    }
   ],
   "source": [
    "stock_price = np.array([0.018, -0.026, -0.057, -0.039, 0.016])\n",
    "average = np.around(np.mean(stock_price) * 100, decimals = 2)\n",
    "if average > 0 : \n",
    "    print('The stock price increase an average of', average, 'percent per day')\n",
    "else: \n",
    "    print('The stock price decrease an average of', abs(average), 'percent per day')"
   ]
  },
  {
   "cell_type": "markdown",
   "metadata": {},
   "source": [
    "## Problem 2.7"
   ]
  },
  {
   "cell_type": "code",
   "execution_count": 8,
   "metadata": {},
   "outputs": [
    {
     "name": "stdout",
     "output_type": "stream",
     "text": [
      "Paul averaged the most points per game,  21.7 .\n"
     ]
    }
   ],
   "source": [
    "players = {'Kevin': [17, 16, 8, 21, 25, 28],\n",
    "          'Paul': [20, 18, 7, 36, 34, 15],\n",
    "          'Ray': [18, 9, 17, 19, 17, 12]}\n",
    "players_df = pd.DataFrame.from_dict(players, orient = 'index')\n",
    "players_df['Mean'] = players_df.mean(axis=1)\n",
    "print(players_df['Mean'].idxmax(), 'averaged the most points per game, ', \n",
    "      np.around(players_df['Mean'].max(), decimals = 1),'.')"
   ]
  },
  {
   "cell_type": "markdown",
   "metadata": {},
   "source": [
    "## Problem 2.8"
   ]
  },
  {
   "cell_type": "code",
   "execution_count": 9,
   "metadata": {},
   "outputs": [
    {
     "name": "stdout",
     "output_type": "stream",
     "text": [
      "The demand forecast for January 11 is 29.3 tires\n"
     ]
    }
   ],
   "source": [
    "demand = pd.DataFrame({'Demand': [18, 23, 14, 15, 25, 34, 29]},\n",
    "                     index = ['Jan 4', 'Jan 5', 'Jan 6', 'Jan 7', 'Jan 8', 'Jan 9', 'Jan 10'])\n",
    "demand.index.name = 'Day'\n",
    "demand.loc['Jan 11'] = np.around(demand[-3:].mean(), decimals = 1)\n",
    "print('The demand forecast for January 11 is', demand.loc['Jan 11', 'Demand'], 'tires')"
   ]
  },
  {
   "cell_type": "markdown",
   "metadata": {},
   "source": [
    "## Problem 2.9"
   ]
  },
  {
   "cell_type": "code",
   "execution_count": 10,
   "metadata": {},
   "outputs": [
    {
     "name": "stdout",
     "output_type": "stream",
     "text": [
      "The demand forecast was the most accurate on  Jan 7  and least accurate on  Jan 9 .\n"
     ]
    }
   ],
   "source": [
    "demand['Forecast'] = np.around(demand.Demand.rolling(window=3).mean().shift(1), decimals = 1)\n",
    "demand['Difference'] = np.abs(demand.Forecast - demand.Demand)\n",
    "demand.Difference.loc['Jan 11'] = np.nan\n",
    "print('The demand forecast was the most accurate on ', demand['Difference'].idxmin(),\n",
    "      ' and least accurate on ', demand['Difference'].idxmax(),'.')"
   ]
  },
  {
   "cell_type": "code",
   "execution_count": null,
   "metadata": {},
   "outputs": [],
   "source": []
  }
 ],
 "metadata": {
  "kernelspec": {
   "display_name": "3.7",
   "language": "python",
   "name": "3.7"
  },
  "language_info": {
   "codemirror_mode": {
    "name": "ipython",
    "version": 3
   },
   "file_extension": ".py",
   "mimetype": "text/x-python",
   "name": "python",
   "nbconvert_exporter": "python",
   "pygments_lexer": "ipython3",
   "version": "3.7.3"
  }
 },
 "nbformat": 4,
 "nbformat_minor": 2
}
