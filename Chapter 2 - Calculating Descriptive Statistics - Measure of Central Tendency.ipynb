{
 "cells": [
  {
   "cell_type": "code",
   "execution_count": 1,
   "metadata": {},
   "outputs": [],
   "source": [
    "import pandas as pd\n",
    "import numpy as np\n",
    "import matplotlib.pyplot as plt"
   ]
  },
  {
   "cell_type": "markdown",
   "metadata": {},
   "source": [
    "# Mean\n",
    "## Problem 2.1"
   ]
  },
  {
   "cell_type": "code",
   "execution_count": 2,
   "metadata": {},
   "outputs": [
    {
     "data": {
      "text/plain": [
       "21.2"
      ]
     },
     "execution_count": 2,
     "metadata": {},
     "output_type": "execute_result"
    }
   ],
   "source": [
    "students = np.array([18, 22, 25, 26, 15])\n",
    "np.mean(students)"
   ]
  },
  {
   "cell_type": "markdown",
   "metadata": {},
   "source": [
    "## Problem 2.2"
   ]
  },
  {
   "cell_type": "code",
   "execution_count": 3,
   "metadata": {},
   "outputs": [
    {
     "data": {
      "text/plain": [
       "33.2"
      ]
     },
     "execution_count": 3,
     "metadata": {},
     "output_type": "execute_result"
    }
   ],
   "source": [
    "no_students = np.array([18, 22, 25, 26, 75])\n",
    "np.mean(no_students)"
   ]
  },
  {
   "cell_type": "markdown",
   "metadata": {},
   "source": [
    "## Problem 2.3"
   ]
  },
  {
   "cell_type": "code",
   "execution_count": 4,
   "metadata": {},
   "outputs": [
    {
     "name": "stdout",
     "output_type": "stream",
     "text": [
      "3.9 minutes\n"
     ]
    }
   ],
   "source": [
    "no_minutes = np.array([6, 4, 2, 5, 4, 1, 5])\n",
    "print(np.around(np.mean(no_minutes), decimals = 1), 'minutes')"
   ]
  },
  {
   "cell_type": "markdown",
   "metadata": {},
   "source": [
    "## Problem 2.4"
   ]
  },
  {
   "cell_type": "code",
   "execution_count": 5,
   "metadata": {},
   "outputs": [
    {
     "name": "stdout",
     "output_type": "stream",
     "text": [
      "Model B averages the most miles per gallon at 23.4 mpg.\n"
     ]
    }
   ],
   "source": [
    "mileage = {'Model A': [22, 24, 19, 25, 20], 'Model B': [21, 25, 27, 23, 21]}\n",
    "mileage\n",
    "mileage_df = pd.DataFrame.from_dict(mileage, orient = 'index', \n",
    "                                    columns = ['Trial 1', 'Trial 2', 'Trial 3', 'Trial 4', 'Trial 5'])\n",
    "mileage_df['Mean MPG'] = mileage_df.mean(axis =1)\n",
    "print(mileage_df['Mean MPG'].idxmax(), 'averages the most miles per gallon at', mileage_df['Mean MPG'].max(), 'mpg.')"
   ]
  },
  {
   "cell_type": "markdown",
   "metadata": {},
   "source": [
    "## Problem 2.5"
   ]
  },
  {
   "cell_type": "code",
   "execution_count": 6,
   "metadata": {},
   "outputs": [
    {
     "name": "stdout",
     "output_type": "stream",
     "text": [
      "The average flight is  8.62 minutes late.\n"
     ]
    }
   ],
   "source": [
    "minutes_late = np.array([12, -10, 32, -4, 0, 16, 5, 18])\n",
    "print('The average flight is ',np.around(np.mean(minutes_late), decimals=2), 'minutes late.')"
   ]
  },
  {
   "cell_type": "markdown",
   "metadata": {},
   "source": [
    "## Problem 2.6"
   ]
  },
  {
   "cell_type": "code",
   "execution_count": 7,
   "metadata": {},
   "outputs": [
    {
     "name": "stdout",
     "output_type": "stream",
     "text": [
      "The stock price decrease an average of 1.76 percent per day\n"
     ]
    }
   ],
   "source": [
    "stock_price = np.array([0.018, -0.026, -0.057, -0.039, 0.016])\n",
    "average = np.around(np.mean(stock_price) * 100, decimals = 2)\n",
    "if average > 0 : \n",
    "    print('The stock price increase an average of', average, 'percent per day')\n",
    "else: \n",
    "    print('The stock price decrease an average of', abs(average), 'percent per day')"
   ]
  }
 ],
 "metadata": {
  "kernelspec": {
   "display_name": "3.7",
   "language": "python",
   "name": "3.7"
  },
  "language_info": {
   "codemirror_mode": {
    "name": "ipython",
    "version": 3
   },
   "file_extension": ".py",
   "mimetype": "text/x-python",
   "name": "python",
   "nbconvert_exporter": "python",
   "pygments_lexer": "ipython3",
   "version": "3.7.3"
  }
 },
 "nbformat": 4,
 "nbformat_minor": 2
}
