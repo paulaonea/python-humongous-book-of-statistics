{
 "cells": [
  {
   "cell_type": "markdown",
   "metadata": {},
   "source": [
    "# Stem-and-Leaf Plot"
   ]
  },
  {
   "cell_type": "code",
   "execution_count": 1,
   "metadata": {},
   "outputs": [],
   "source": [
    "import pandas as pd\n",
    "from stemgraphic import stem_graphic\n",
    "import math\n",
    "import matplotlib.pyplot as plt\n",
    "import numpy as np\n",
    "import statistics"
   ]
  },
  {
   "cell_type": "markdown",
   "metadata": {},
   "source": [
    "# Problem 3.30"
   ]
  },
  {
   "cell_type": "code",
   "execution_count": 2,
   "metadata": {},
   "outputs": [
    {
     "data": {
      "text/plain": [
       "(<Figure size 540x144 with 1 Axes>,\n",
       " <matplotlib.axes._axes.Axes at 0x123226b38>)"
      ]
     },
     "execution_count": 2,
     "metadata": {},
     "output_type": "execute_result"
    },
    {
     "data": {
      "image/png": "[encoded data removed]",
      "text/plain": [
       "<Figure size 540x144 with 1 Axes>"
      ]
     },
     "metadata": {
      "needs_background": "light"
     },
     "output_type": "display_data"
    }
   ],
   "source": [
    "data = [28, 34, 42, 47, 49]\n",
    "stem_graphic(pd.Series(data))"
   ]
  },
  {
   "cell_type": "markdown",
   "metadata": {},
   "source": [
    "## Problem 3.31"
   ]
  },
  {
   "cell_type": "code",
   "execution_count": 3,
   "metadata": {},
   "outputs": [
    {
     "data": {
      "text/plain": [
       "(<Figure size 540x234 with 1 Axes>,\n",
       " <matplotlib.axes._axes.Axes at 0x12534bf28>)"
      ]
     },
     "execution_count": 3,
     "metadata": {},
     "output_type": "execute_result"
    },
    {
     "data": {
      "image/png": "[encoded data removed]",
      "text/plain": [
       "<Figure size 540x234 with 1 Axes>"
      ]
     },
     "metadata": {
      "needs_background": "light"
     },
     "output_type": "display_data"
    }
   ],
   "source": [
    "snowfall = [11, 12, 14, 17, 20, 20, 22, 25, 25, 26, 26, 28, 30, 32, 32, 34, 35, 35, 38, 39, 39, 41, 41, 43, 45, 46, 48, 49, 50, 56]\n",
    "stem_graphic(pd.Series(snowfall))"
   ]
  },
  {
   "cell_type": "code",
   "execution_count": 4,
   "metadata": {},
   "outputs": [
    {
     "name": "stdout",
     "output_type": "stream",
     "text": [
      " 11\n",
      "| 1|1247\n",
      "| 2|00255668\n",
      "| 3|022455899\n",
      "| 4|1135689\n",
      "| 5|06\n",
      " 56\n"
     ]
    }
   ],
   "source": [
    "snowfall = [11, 12, 14, 17, 20, 20, 22, 25, 25, 26, \n",
    "           26, 28, 30, 32, 32, 34, 35, 35, 38, 39,\n",
    "           39, 41, 41, 43, 45, 46, 48, 49, 50, 56]\n",
    "snowfall.sort()\n",
    "print(f' {min(snowfall)}')\n",
    "prefix = min(snowfall) // 10\n",
    "string = f'| {prefix}|'\n",
    "for v in range(0, len(snowfall)):\n",
    "    if snowfall[v] // 10 == prefix:\n",
    "        string += f'{snowfall[v] % 10}'\n",
    "    else:\n",
    "        print(string)\n",
    "        prefix += int(math.pow(prefix, (len(str(min(snowfall) // 10)) - 1)))\n",
    "        string = f'| {prefix}|'\n",
    "        string += f'{snowfall[v] % 10}'\n",
    "print(string)\n",
    "print(f' {max(snowfall)}')"
   ]
  },
  {
   "cell_type": "markdown",
   "metadata": {},
   "source": [
    "## Problem 3.32"
   ]
  },
  {
   "cell_type": "code",
   "execution_count": 5,
   "metadata": {},
   "outputs": [
    {
     "name": "stdout",
     "output_type": "stream",
     "text": [
      "[8, 9, 9, 20, 21, 23, 23, 24, 24, 25, 27, 28, 29, 30, 32, 33, 33, 35, 41, 43]\n"
     ]
    }
   ],
   "source": [
    "data = ['0|899', '1|', '2|0133445789', '3|02335', '4|13']\n",
    "values = []\n",
    "for string in data:\n",
    "    a, b = string.split('|')\n",
    "    if len(b) == 0:\n",
    "        pass\n",
    "    else:\n",
    "        for v in b:\n",
    "            values.append(int(a+v))\n",
    "print(values)  "
   ]
  },
  {
   "cell_type": "markdown",
   "metadata": {},
   "source": [
    "## Problem 3.33"
   ]
  },
  {
   "cell_type": "code",
   "execution_count": 6,
   "metadata": {},
   "outputs": [
    {
     "name": "stdout",
     "output_type": "stream",
     "text": [
      " 163\n",
      "| 16|33566\n",
      "| 17|02235\n",
      "| 18|013334667\n",
      "| 19|6\n",
      "| 20|016666\n",
      "| 21|4\n",
      "| 22|1\n",
      "| 23|1\n",
      "| 24|5\n",
      " 265\n",
      "The mode of the data is 206 and was registered 4 times.\n"
     ]
    }
   ],
   "source": [
    "from collections import Counter\n",
    "from scipy import stats\n",
    "\n",
    "strikeouts = [265, 251, 231, 214, 206, 206, 206, 206, 201, 200,\n",
    "             196, 187, 186, 186, 184, 183, 183, 183, 181, 180,\n",
    "             175, 173, 172, 172, 170, 166, 166, 165, 163, 163]\n",
    "strikeouts.sort()\n",
    "print(f' {min(strikeouts)}')\n",
    "prefix = min(strikeouts) // 10\n",
    "string = f'| {prefix}|'\n",
    "for value in strikeouts:\n",
    "    if value // 10 == prefix:\n",
    "        string += f'{value % 10}'\n",
    "    else:\n",
    "        print(string)\n",
    "        prefix += int(math.pow(prefix, (len(str(min(strikeouts) // 10)) - 2)))\n",
    "        string = f'| {prefix}|'\n",
    "        string += f'{value % 10}'\n",
    "print(string)\n",
    "print(f' {max(strikeouts)}')\n",
    "\n",
    "mode, count = stats.mode(strikeouts)\n",
    "print(f'The mode of the data is {mode[0]} and was registered {count[0]} times.')"
   ]
  },
  {
   "cell_type": "markdown",
   "metadata": {},
   "source": [
    "## Problem 3.34"
   ]
  },
  {
   "cell_type": "code",
   "execution_count": 7,
   "metadata": {},
   "outputs": [
    {
     "name": "stdout",
     "output_type": "stream",
     "text": [
      " 70\n",
      "| 7|00111456778\n",
      "| 8|123567789\n",
      "| 9|0015678\n",
      "| 10|24\n",
      "| 11|7\n",
      " 117\n"
     ]
    }
   ],
   "source": [
    "ratings = [117.2, 104.1, 102.2, 98.0, 97.4, 95.7, 94.6, 91.4, 89.9, 89.8, 89.4, 88.1,\n",
    "          87.2, 86.7, 86.1, 84.8, 82.5, 82.4, 80.9, 77.6, 77.2, 76.8, 75.6, 75.2, \n",
    "          73.9, 71.1, 71.0, 70.8, 70.4, 70.3]\n",
    "ratings.sort()\n",
    "\n",
    "def round_half_up(n, decimals=0):\n",
    "    multiplier = 10 ** decimals\n",
    "    return math.floor(n*multiplier + 0.5) / multiplier\n",
    "\n",
    "def stem_and_leaf_plot(list):\n",
    "    print(f' {min(list)}')\n",
    "    prefix = min(list) // 10\n",
    "    string = f'| {prefix}|'\n",
    "    for value in list:\n",
    "        if value // 10 == prefix:\n",
    "            string += f'{value % 10}'\n",
    "        else:\n",
    "            print(string)\n",
    "            prefix += 1\n",
    "            string = f'| {prefix}|'\n",
    "            string += f'{value % 10}'\n",
    "    print(string)\n",
    "    print(f' {max(list)}')\n",
    "\n",
    "rounded = [int(round_half_up(v)) for v in ratings]\n",
    "stem_and_leaf_plot(rounded)"
   ]
  },
  {
   "cell_type": "markdown",
   "metadata": {},
   "source": [
    "## Problem 3.35"
   ]
  },
  {
   "cell_type": "code",
   "execution_count": 8,
   "metadata": {},
   "outputs": [
    {
     "name": "stdout",
     "output_type": "stream",
     "text": [
      " 70\n",
      "| 7(0)|001114\n",
      "| 7(5)|56778\n",
      "| 8(0)|123\n",
      "| 8(5)|567789\n",
      "| 9(0)|001\n",
      "| 9(5)|5678\n",
      "| 10(0)|24\n",
      "| 10(5)|\n",
      "| 11(0)|\n",
      "| 11(5)|7\n",
      " 117\n"
     ]
    }
   ],
   "source": [
    "def stem_and_leaf_plot_5(lista):\n",
    "    lista.sort()\n",
    "    print(f' {min(lista)}')\n",
    "    prefix = min(lista) // 10\n",
    "    string0 = f'| {prefix}(0)|'\n",
    "    string5 = f'| {prefix}(5)|'\n",
    "    for value in lista:\n",
    "        if value // 10 != prefix:\n",
    "            print(string0)\n",
    "            print(string5)\n",
    "            prefix += 1\n",
    "            string0 = f'| {prefix}(0)|'\n",
    "            string5 = f'| {prefix}(5)|'\n",
    "        if value // 10 == prefix:\n",
    "            if value % 10 < 5:\n",
    "                string0 += f'{value % 10}'\n",
    "            else:\n",
    "                string5 += f'{value % 10}'\n",
    "    print(string0)\n",
    "    print(string5)\n",
    "    print(f' {max(lista)}')\n",
    "                   \n",
    "stem_and_leaf_plot_5(rounded)"
   ]
  },
  {
   "cell_type": "markdown",
   "metadata": {},
   "source": [
    "## Problem 3.36"
   ]
  },
  {
   "cell_type": "code",
   "execution_count": 9,
   "metadata": {},
   "outputs": [
    {
     "name": "stdout",
     "output_type": "stream",
     "text": [
      "National League\n",
      " 25\n",
      "| 2(0)|\n",
      "| 2(5)|5555556677788999\n",
      "| 3(0)|2233334\n",
      "| 3(5)|67778\n",
      "| 4(0)|0\n",
      "| 4(5)|8\n",
      " 48\n",
      "American League\n",
      " 21\n",
      "| 2(0)|11112223333334\n",
      "| 2(5)|55779\n",
      "| 3(0)|12223344\n",
      "| 3(5)|567\n",
      " 37\n"
     ]
    }
   ],
   "source": [
    "national = [48, 40, 38, 37, 37, 37, 36, 34, 33, 33,\n",
    "           33, 33, 32, 32, 29, 29, 29, 28, 28, 27,\n",
    "           27, 27, 26, 26, 25, 25, 25, 25, 25, 25]\n",
    "american = [37, 36, 35, 34, 34, 33, 33, 32, 32, 32, \n",
    "           31, 29, 27, 27, 25, 25, 24, 23, 23, 23, \n",
    "           23, 23, 23, 22, 22, 22, 21, 21, 21, 21]\n",
    "\n",
    "print('National League')\n",
    "stem_and_leaf_plot_5(national)\n",
    "print('American League')\n",
    "stem_and_leaf_plot_5(american)\n"
   ]
  },
  {
   "cell_type": "markdown",
   "metadata": {},
   "source": [
    "# Variance and Standards Deviation of a Population"
   ]
  },
  {
   "cell_type": "markdown",
   "metadata": {},
   "source": [
    "## Problem 3.37 - 3.40"
   ]
  },
  {
   "cell_type": "code",
   "execution_count": 10,
   "metadata": {},
   "outputs": [],
   "source": [
    "data = {'years': ['1901-1910', '1911-1920', '1921-1930', '1931-1940', '1941-1950', '1951-1960', '1961-1970',\n",
    "      '1971-1980', '1981-1990', '1991-2000'],\n",
    "      'hurricanes': [18, 21, 13, 19, 24, 17, 14, 12, 15, 14]}"
   ]
  },
  {
   "cell_type": "code",
   "execution_count": 11,
   "metadata": {},
   "outputs": [
    {
     "name": "stdout",
     "output_type": "stream",
     "text": [
      "The variance of number of hurricanes is  13.21.\n",
      "The variance of number of hurricanes is  13.21.\n",
      "The standard deviation of number of hurricanes is  3.63 hurricanes.\n",
      "The coefficient of variation is  21.76%.\n"
     ]
    }
   ],
   "source": [
    "df = pd.DataFrame(data)\n",
    "mean = np.mean(df.hurricanes)\n",
    "df['compute'] = df.apply(lambda row: math.pow(row.hurricanes - mean, 2), axis=1)\n",
    "variance = df.compute.sum() / len(df)\n",
    "print(f'The variance of number of hurricanes is {variance: .02f}.')\n",
    "\n",
    "variance = statistics.pvariance(df.hurricanes)\n",
    "print(f'The variance of number of hurricanes is {variance: .02f}.')\n",
    "\n",
    "standard_deviation = math.sqrt(variance)\n",
    "print(f'The standard deviation of number of hurricanes is {standard_deviation: .02f} hurricanes.')\n",
    "\n",
    "coefficient_of_variation = standard_deviation / mean\n",
    "print(f'The coefficient of variation is {coefficient_of_variation * 100: .2f}%.')"
   ]
  },
  {
   "cell_type": "markdown",
   "metadata": {},
   "source": [
    "## Problem 3.41 - 3.44"
   ]
  },
  {
   "cell_type": "code",
   "execution_count": 12,
   "metadata": {},
   "outputs": [
    {
     "name": "stdout",
     "output_type": "stream",
     "text": [
      "The variance of number of students is  17.36.\n",
      "The standard deviation of number of students is  4.17 students.\n",
      "The coefficient of variation is  19.65%.\n"
     ]
    }
   ],
   "source": [
    "students = [18, 22, 25, 26, 15]\n",
    "mean = np.mean(students)\n",
    "compute = [math.pow(v - mean, 2) for v in students]\n",
    "variance = sum(compute) / len(students)\n",
    "standard_deviation = math.sqrt(variance)\n",
    "coefficient_of_variation = standard_deviation / mean\n",
    "print(f'The variance of number of students is {variance: .02f}.')\n",
    "print(f'The standard deviation of number of students is {standard_deviation: .02f} students.')\n",
    "print(f'The coefficient of variation is {coefficient_of_variation * 100: .2f}%.')"
   ]
  },
  {
   "cell_type": "markdown",
   "metadata": {},
   "source": [
    "## Problem 3.45 - 3.48"
   ]
  },
  {
   "cell_type": "code",
   "execution_count": 13,
   "metadata": {},
   "outputs": [
    {
     "name": "stdout",
     "output_type": "stream",
     "text": [
      "The variance of number of students is  51.70.\n",
      "The standard deviation of number of students is  7.19 students.\n",
      "The coefficient of variation is  64.20%.\n"
     ]
    }
   ],
   "source": [
    "absent_students = [15, 8, 6, 22, 5]\n",
    "mean = np.mean(absent_students)\n",
    "compute = [math.pow(v - mean, 2) for v in absent_students]\n",
    "variance = sum(compute) / (len(absent_students) - 1)\n",
    "standard_deviation = math.sqrt(variance)\n",
    "coefficient_of_variation = standard_deviation / mean\n",
    "print(f'The variance of number of students is {variance: .02f}.')\n",
    "print(f'The standard deviation of number of students is {standard_deviation: .02f} students.')\n",
    "print(f'The coefficient of variation is {coefficient_of_variation * 100: .2f}%.')"
   ]
  },
  {
   "cell_type": "markdown",
   "metadata": {},
   "source": [
    "## Problem 3.49"
   ]
  },
  {
   "cell_type": "code",
   "execution_count": 14,
   "metadata": {},
   "outputs": [
    {
     "name": "stdout",
     "output_type": "stream",
     "text": [
      "The standard deviation of number of minutes is  17.17 minutes.\n"
     ]
    }
   ],
   "source": [
    "minutes = [-15.5, 25, 0, -10.5, -17.5, 10, -23]\n",
    "mean = np.mean(minutes)\n",
    "calculate = [math.pow(v - mean, 2) for v in minutes]\n",
    "variance = sum(calculate) / (len(minutes) - 1)\n",
    "standard_deviation = math.sqrt(variance)\n",
    "print(f'The standard deviation of number of minutes is {standard_deviation: .02f} minutes.')"
   ]
  },
  {
   "cell_type": "markdown",
   "metadata": {},
   "source": [
    "## Problem 3.50 - 3.51"
   ]
  },
  {
   "cell_type": "code",
   "execution_count": 15,
   "metadata": {},
   "outputs": [
    {
     "name": "stdout",
     "output_type": "stream",
     "text": [
      "The standard deviation of number of home runs for Jeter  4.90.\n",
      "The standard deviation of number of home runs for Rodriguez  8.99.\n",
      "Coeficient of variation for Jeter is  30.6%.\n",
      "Coeficient of variation for Rodriguez is  19.8%.\n"
     ]
    }
   ],
   "source": [
    "data = {'year': [2001, 2002, 2003, 2004, 2005, 2006, 2007, 2008],\n",
    "       'Jeter': [21, 18, 10, 23, 19, 14, 12, 11],\n",
    "       'Rodriguez': [52, 57, 47, 36, 48, 35, 54, 35]}\n",
    "df = pd.DataFrame(data)\n",
    "st_dev_jeter = math.sqrt(statistics.variance(df.Jeter))\n",
    "st_dev_rodriguez = math.sqrt(statistics.variance(df.Rodriguez))\n",
    "print(f'The standard deviation of number of home runs for Jeter {st_dev_jeter: .02f}.')\n",
    "print(f'The standard deviation of number of home runs for Rodriguez {st_dev_rodriguez: .02f}.')\n",
    "cv_jeter = st_dev_jeter / np.mean(df.Jeter) \n",
    "cv_rodriguez = st_dev_rodriguez / np.mean(df.Rodriguez)\n",
    "print(f'Coeficient of variation for Jeter is {cv_jeter * 100: .1f}%.')\n",
    "print(f'Coeficient of variation for Rodriguez is {cv_rodriguez * 100: .1f}%.')"
   ]
  },
  {
   "cell_type": "markdown",
   "metadata": {},
   "source": [
    "# Variance and Standard Deviation of a Group of Data"
   ]
  },
  {
   "cell_type": "markdown",
   "metadata": {},
   "source": [
    "## Problem 3.52 - 3.53"
   ]
  },
  {
   "cell_type": "code",
   "execution_count": 16,
   "metadata": {},
   "outputs": [
    {
     "name": "stdout",
     "output_type": "stream",
     "text": [
      "The variance of the 2008 Masters scores is s2 =  22.11.\n",
      "The sample standard deviation is  4.70.\n"
     ]
    }
   ],
   "source": [
    "data = {'scores': ['280-283', '284-287', '288-291', '292-295', '296-299', '300-303'],\n",
    "       'frequency': [2, 8, 14, 14, 5, 2]}\n",
    "df = pd.DataFrame(data)\n",
    "df['midpoint'] = df.apply(lambda row: (int(row.scores.split('-')[0]) + int(row.scores.split('-')[1])) / 2, axis=1)\n",
    "sum_midpoints = math.pow((df.frequency * df.midpoint).sum(), 2)\n",
    "df['calculate'] = df.apply(lambda row: row.frequency * math.pow(row.midpoint, 2), axis=1)\n",
    "variance = (df.calculate.sum() - (sum_midpoints / df.frequency.sum())) / (df.frequency.sum() - 1)\n",
    "print(f'The variance of the 2008 Masters scores is s2 = {variance: .2f}.')\n",
    "print(f'The sample standard deviation is {math.sqrt(variance): .2f}.')"
   ]
  },
  {
   "cell_type": "markdown",
   "metadata": {},
   "source": [
    "## Problem 3.54 - 3.55"
   ]
  },
  {
   "cell_type": "code",
   "execution_count": 17,
   "metadata": {},
   "outputs": [
    {
     "name": "stdout",
     "output_type": "stream",
     "text": [
      "The variance of the employees age is  44.60.\n",
      "The sample standard deviation is  6.68.\n"
     ]
    }
   ],
   "source": [
    "data = {'age': ['20-24', '25-29', '30-34', '35-39', '40-44', '45-49'],\n",
    "       'employees': [8, 37, 25, 48, 27, 10]}\n",
    "df = pd.DataFrame(data)\n",
    "df['midpoint'] = df.apply(lambda row: (int(row.age.split('-')[0]) + int(row.age.split('-')[1])) / 2 , axis=1)\n",
    "sum_midpoints = math.pow((df.employees * df.midpoint).sum(), 2)\n",
    "sum_midpoints\n",
    "df['calculate'] = df.apply(lambda row: row.employees * math.pow(row.midpoint, 2), axis=1)\n",
    "variance = (df.calculate.sum() - (sum_midpoints / df.employees.sum())) / (df.employees.sum() - 1)\n",
    "print(f'The variance of the employees age is {variance: .2f}.')\n",
    "print(f'The sample standard deviation is {math.sqrt(variance): .2f}.')"
   ]
  },
  {
   "cell_type": "markdown",
   "metadata": {},
   "source": [
    "# Chebyshev's Theorem"
   ]
  },
  {
   "cell_type": "markdown",
   "metadata": {},
   "source": [
    "## Problem 3.57"
   ]
  },
  {
   "cell_type": "code",
   "execution_count": 18,
   "metadata": {},
   "outputs": [
    {
     "name": "stdout",
     "output_type": "stream",
     "text": [
      "At least  88.9% of the observations from a distribution fall within 3 standard deviations of the mean.\n",
      "At least  91.8% of the observations from a distribution fall within 3.5 standard deviations of the mean.\n",
      "At least  93.8% of the observations from a distribution fall within 4 standard deviations of the mean.\n"
     ]
    }
   ],
   "source": [
    "def percentage(deviation):\n",
    "    return 1 - 1 / math.pow(deviation, 2)\n",
    "\n",
    "print(f'At least {percentage(3) * 100: 0.1f}% of the observations from a distribution fall within 3 standard deviations of the mean.')\n",
    "print(f'At least {percentage(3.5) * 100: 0.1f}% of the observations from a distribution fall within 3.5 standard deviations of the mean.')\n",
    "print(f'At least {percentage(4) * 100: 0.1f}% of the observations from a distribution fall within 4 standard deviations of the mean.')"
   ]
  },
  {
   "cell_type": "markdown",
   "metadata": {},
   "source": [
    "## Problem 3.58 - 3.60"
   ]
  },
  {
   "cell_type": "code",
   "execution_count": 19,
   "metadata": {},
   "outputs": [
    {
     "name": "stdout",
     "output_type": "stream",
     "text": [
      "The prices of at least 75% of the houses are between $200,000 and $400,000.\n",
      "At least  88.9% of the houses should sell between $150,000 and $450,000.\n",
      "At least  85.2% of the houses should sell between $170,000 and $430,000.\n"
     ]
    }
   ],
   "source": [
    "import math\n",
    "mean = 300000\n",
    "st_dev = 50000\n",
    "\n",
    "def deviation(percentage):\n",
    "    return math.sqrt(1/(1 - percentage))\n",
    "\n",
    "def percentage(dev):\n",
    "    return 1 - 1 / math.pow(dev, 2)\n",
    "\n",
    "print(f'The prices of at least 75% of the houses are between ${mean - st_dev * deviation(0.75):,.0f} and ${mean + st_dev * deviation(0.75):,.0f}.')\n",
    "\n",
    "p = percentage((mean - 150000) / st_dev)\n",
    "print(f'At least {p * 100: 0.1f}% of the houses should sell between $150,000 and $450,000.')\n",
    "\n",
    "p = percentage((mean - 170000) / st_dev)\n",
    "print(f'At least {p * 100: 0.1f}% of the houses should sell between $170,000 and $430,000.')"
   ]
  },
  {
   "cell_type": "markdown",
   "metadata": {},
   "source": [
    "## Problem 3.61 - 3.62"
   ]
  },
  {
   "cell_type": "code",
   "execution_count": 20,
   "metadata": {},
   "outputs": [
    {
     "name": "stdout",
     "output_type": "stream",
     "text": [
      "93.33% of the data falls within 2 standard deviations, compared to 75% as stated by Chebyshev's Theorem .\n",
      "96.67% of the data falls within 3 standard deviations, compared to 88.9% as stated by Chebyshev's Theorem .\n"
     ]
    }
   ],
   "source": [
    "leaders = [73, 64, 57, 49, 49, 45, 41, 39, 38, 38,\n",
    "          37, 37, 37, 36, 36, 34, 34, 34, 34, 34,\n",
    "          33, 31, 31, 30, 30, 29, 27, 27, 27, 25]\n",
    "leaders.sort()\n",
    "st_dev = math.sqrt(statistics.variance(leaders))\n",
    "mean = np.mean(leaders)\n",
    "leaders_2st = [v for v in leaders if mean - 2 * st_dev < v < mean + 2* st_dev]\n",
    "percentage_2st = len(leaders_2st) / len(leaders)\n",
    "print(f\"{percentage_2st * 100:.2f}% of the data falls within 2 standard deviations, compared to 75% as stated by Chebyshev's Theorem .\")\n",
    "\n",
    "leaders_3st = [v for v in leaders if mean - 3 * st_dev < v < mean + 3* st_dev]\n",
    "percentage_3st = len(leaders_3st) / len(leaders)\n",
    "print(f\"{percentage_3st * 100:.2f}% of the data falls within 3 standard deviations, compared to 88.9% as stated by Chebyshev's Theorem .\")"
   ]
  }
 ],
 "metadata": {
  "kernelspec": {
   "display_name": "3.7",
   "language": "python",
   "name": "3.7"
  },
  "language_info": {
   "codemirror_mode": {
    "name": "ipython",
    "version": 3
   },
   "file_extension": ".py",
   "mimetype": "text/x-python",
   "name": "python",
   "nbconvert_exporter": "python",
   "pygments_lexer": "ipython3",
   "version": "3.7.3"
  }
 },
 "nbformat": 4,
 "nbformat_minor": 2
}
