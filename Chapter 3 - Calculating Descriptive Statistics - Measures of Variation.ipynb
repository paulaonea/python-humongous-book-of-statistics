{
 "cells": [
  {
   "cell_type": "markdown",
   "metadata": {},
   "source": [
    "# Range"
   ]
  },
  {
   "cell_type": "code",
   "execution_count": 6,
   "metadata": {},
   "outputs": [],
   "source": [
    "import pandas as pd\n",
    "import numpy as np\n",
    "import matplotlib.pyplot as plt\n",
    "from scipy import stats"
   ]
  },
  {
   "cell_type": "markdown",
   "metadata": {},
   "source": [
    "## Problem 3.1"
   ]
  },
  {
   "cell_type": "code",
   "execution_count": 3,
   "metadata": {},
   "outputs": [
    {
     "name": "stdout",
     "output_type": "stream",
     "text": [
      "The range of dataset is $590.\n"
     ]
    }
   ],
   "source": [
    "cc_balance = [485, 610, 1075, 737, 510]\n",
    "print(f'The range of dataset is ${max(cc_balance) - min(cc_balance)}.')"
   ]
  },
  {
   "cell_type": "markdown",
   "metadata": {},
   "source": [
    "## Problem 3.2"
   ]
  },
  {
   "cell_type": "code",
   "execution_count": 4,
   "metadata": {},
   "outputs": [
    {
     "name": "stdout",
     "output_type": "stream",
     "text": [
      "The range of dataset is $6590.\n"
     ]
    }
   ],
   "source": [
    "cc_balance = [485, 610, 7075, 737, 510]\n",
    "print(f'The range of dataset is ${max(cc_balance) - min(cc_balance)}.')"
   ]
  },
  {
   "cell_type": "markdown",
   "metadata": {},
   "source": [
    "## Problem 3.3"
   ]
  },
  {
   "cell_type": "code",
   "execution_count": 8,
   "metadata": {},
   "outputs": [
    {
     "name": "stdout",
     "output_type": "stream",
     "text": [
      "The range of dataset is 42 minutes.\n"
     ]
    }
   ],
   "source": [
    "minutes = [12, -10, 32, -4, 0, 16, 5, 18]\n",
    "print(f'The range of dataset is {max(minutes) - min(minutes)} minutes.')"
   ]
  },
  {
   "cell_type": "markdown",
   "metadata": {},
   "source": [
    "## Problem 3.4"
   ]
  },
  {
   "cell_type": "code",
   "execution_count": 10,
   "metadata": {},
   "outputs": [
    {
     "name": "stdout",
     "output_type": "stream",
     "text": [
      "The temprature range is 23 Celsius.\n"
     ]
    }
   ],
   "source": [
    "temp = [-15, -6, -2, -8, -18, -21, -24, -25, -24, -25]\n",
    "print(f'The temprature range is {max(temp) - min(temp)} Celsius.')"
   ]
  },
  {
   "cell_type": "markdown",
   "metadata": {},
   "source": [
    "## Problem 3.5"
   ]
  },
  {
   "cell_type": "code",
   "execution_count": 15,
   "metadata": {},
   "outputs": [
    {
     "name": "stdout",
     "output_type": "stream",
     "text": [
      "The Dallas Cowboy scored more consistently then the Chicago Bears because their range of 166 is the smallest of the two.\n"
     ]
    }
   ],
   "source": [
    "data = {'years': [2007, 2006, 2005, 2004, 2003],\n",
    "       'Dallas': [455, 425, 325, 293, 289],\n",
    "       'Chicago': [334, 427, 260, 231, 283]}\n",
    "range_dallas = max(data['Dallas']) - min(data['Dallas'])\n",
    "range_chicago = max(data['Chicago']) - min(data['Chicago'])\n",
    "if range_dallas < range_chicago:\n",
    "    winner, loser = 'Dallas Cowboy', 'Chicago Bears'\n",
    "    range = range_dallas\n",
    "else:\n",
    "    winner, loser = 'Chicago Bears', 'Dallas Cowboy'\n",
    "    range = range_chicago\n",
    "print (f'The {winner} scored more consistently then the {loser} because their range of '\n",
    "       f'{range} is the smallest of the two.')"
   ]
  },
  {
   "cell_type": "markdown",
   "metadata": {},
   "source": [
    "## Problem 3.6"
   ]
  },
  {
   "cell_type": "code",
   "execution_count": 17,
   "metadata": {},
   "outputs": [
    {
     "name": "stdout",
     "output_type": "stream",
     "text": [
      "The range in weight change is 11 pounds.\n"
     ]
    }
   ],
   "source": [
    "weight = [-3, -6, -3, -5, 0, -7, 4, -1, -4]\n",
    "print(f'The range in weight change is {max(weight) - min(weight)} pounds.')"
   ]
  },
  {
   "cell_type": "markdown",
   "metadata": {},
   "source": [
    "## Problem 3.7"
   ]
  },
  {
   "cell_type": "code",
   "execution_count": 29,
   "metadata": {},
   "outputs": [
    {
     "name": "stdout",
     "output_type": "stream",
     "text": [
      "Sam is the most consistent golfer because he/she has the smallest range of the three friends. \n",
      "Debbie is the least consistent golfer because he/she has the highest range of the three friends.\n"
     ]
    }
   ],
   "source": [
    "def range_score(array):\n",
    "    return max(array) - min(array)\n",
    "\n",
    "data = {'Sam': [102, 98, 105, 105, 100, 103, 100, 99],\n",
    "       'Debbie': [79, 85, 86, 80, 96, 91, 87],\n",
    "       'Jeff': [86, 94, 81, 90, 95, 82, 88]}\n",
    "range_golfer = {key: range_score(value) for key, value in data.items()}\n",
    "res_min = [k for k, v in range_golfer.items() if v==min(range_golfer.values())]\n",
    "res_max = [k for k, v in range_golfer.items() if v==max(range_golfer.values())]\n",
    "print(f'{res_min[0]} is the most consistent golfer because he/she has the smallest range of the three friends of {}. \\n'\n",
    "     f'{res_max[0]} is the least consistent golfer because he/she has the highest range of the three friends.')"
   ]
  },
  {
   "cell_type": "code",
   "execution_count": null,
   "metadata": {},
   "outputs": [],
   "source": []
  }
 ],
 "metadata": {
  "kernelspec": {
   "display_name": "3.7",
   "language": "python",
   "name": "3.7"
  },
  "language_info": {
   "codemirror_mode": {
    "name": "ipython",
    "version": 3
   },
   "file_extension": ".py",
   "mimetype": "text/x-python",
   "name": "python",
   "nbconvert_exporter": "python",
   "pygments_lexer": "ipython3",
   "version": "3.7.3"
  }
 },
 "nbformat": 4,
 "nbformat_minor": 2
}
