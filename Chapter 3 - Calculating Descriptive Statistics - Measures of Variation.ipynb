{
 "cells": [
  {
   "cell_type": "markdown",
   "metadata": {},
   "source": [
    "# Range"
   ]
  },
  {
   "cell_type": "code",
   "execution_count": 1,
   "metadata": {},
   "outputs": [],
   "source": [
    "import pandas as pd\n",
    "import numpy as np\n",
    "import matplotlib.pyplot as plt\n",
    "from scipy import stats"
   ]
  },
  {
   "cell_type": "markdown",
   "metadata": {},
   "source": [
    "## Problem 3.1"
   ]
  },
  {
   "cell_type": "code",
   "execution_count": 2,
   "metadata": {},
   "outputs": [
    {
     "name": "stdout",
     "output_type": "stream",
     "text": [
      "The range of dataset is $590.\n"
     ]
    }
   ],
   "source": [
    "cc_balance = [485, 610, 1075, 737, 510]\n",
    "print(f'The range of dataset is ${max(cc_balance) - min(cc_balance)}.')"
   ]
  },
  {
   "cell_type": "markdown",
   "metadata": {},
   "source": [
    "## Problem 3.2"
   ]
  },
  {
   "cell_type": "code",
   "execution_count": 3,
   "metadata": {},
   "outputs": [
    {
     "name": "stdout",
     "output_type": "stream",
     "text": [
      "The range of dataset is $6590.\n"
     ]
    }
   ],
   "source": [
    "cc_balance = [485, 610, 7075, 737, 510]\n",
    "print(f'The range of dataset is ${max(cc_balance) - min(cc_balance)}.')"
   ]
  },
  {
   "cell_type": "markdown",
   "metadata": {},
   "source": [
    "## Problem 3.3"
   ]
  },
  {
   "cell_type": "code",
   "execution_count": 4,
   "metadata": {},
   "outputs": [
    {
     "name": "stdout",
     "output_type": "stream",
     "text": [
      "The range of dataset is 42 minutes.\n"
     ]
    }
   ],
   "source": [
    "minutes = [12, -10, 32, -4, 0, 16, 5, 18]\n",
    "print(f'The range of dataset is {max(minutes) - min(minutes)} minutes.')"
   ]
  },
  {
   "cell_type": "markdown",
   "metadata": {},
   "source": [
    "## Problem 3.4"
   ]
  },
  {
   "cell_type": "code",
   "execution_count": 5,
   "metadata": {},
   "outputs": [
    {
     "name": "stdout",
     "output_type": "stream",
     "text": [
      "The temprature range is 23 Celsius.\n"
     ]
    }
   ],
   "source": [
    "temp = [-15, -6, -2, -8, -18, -21, -24, -25, -24, -25]\n",
    "print(f'The temprature range is {max(temp) - min(temp)} Celsius.')"
   ]
  },
  {
   "cell_type": "markdown",
   "metadata": {},
   "source": [
    "## Problem 3.5"
   ]
  },
  {
   "cell_type": "code",
   "execution_count": 6,
   "metadata": {},
   "outputs": [
    {
     "name": "stdout",
     "output_type": "stream",
     "text": [
      "The Dallas Cowboy scored more consistently then the Chicago Bears because their range of 166 is the smallest of the two.\n"
     ]
    }
   ],
   "source": [
    "data = {'years': [2007, 2006, 2005, 2004, 2003],\n",
    "       'Dallas': [455, 425, 325, 293, 289],\n",
    "       'Chicago': [334, 427, 260, 231, 283]}\n",
    "range_dallas = max(data['Dallas']) - min(data['Dallas'])\n",
    "range_chicago = max(data['Chicago']) - min(data['Chicago'])\n",
    "if range_dallas < range_chicago:\n",
    "    winner, loser = 'Dallas Cowboy', 'Chicago Bears'\n",
    "    range = range_dallas\n",
    "else:\n",
    "    winner, loser = 'Chicago Bears', 'Dallas Cowboy'\n",
    "    range = range_chicago\n",
    "print (f'The {winner} scored more consistently then the {loser} because their range of '\n",
    "       f'{range} is the smallest of the two.')"
   ]
  },
  {
   "cell_type": "markdown",
   "metadata": {},
   "source": [
    "## Problem 3.6"
   ]
  },
  {
   "cell_type": "code",
   "execution_count": 7,
   "metadata": {},
   "outputs": [
    {
     "name": "stdout",
     "output_type": "stream",
     "text": [
      "The range in weight change is 11 pounds.\n"
     ]
    }
   ],
   "source": [
    "weight = [-3, -6, -3, -5, 0, -7, 4, -1, -4]\n",
    "print(f'The range in weight change is {max(weight) - min(weight)} pounds.')"
   ]
  },
  {
   "cell_type": "markdown",
   "metadata": {},
   "source": [
    "## Problem 3.7"
   ]
  },
  {
   "cell_type": "code",
   "execution_count": 8,
   "metadata": {},
   "outputs": [
    {
     "name": "stdout",
     "output_type": "stream",
     "text": [
      "Sam is the most consistent golfer because he/she has the smallest range of the three friends of 7. \n",
      "Debbie is the least consistent golfer because he/she has the highest range of the three friends of 17.\n"
     ]
    }
   ],
   "source": [
    "def range_score(array):\n",
    "    return max(array) - min(array)\n",
    "\n",
    "data = {'Sam': [102, 98, 105, 105, 100, 103, 100, 99],\n",
    "       'Debbie': [79, 85, 86, 80, 96, 91, 87],\n",
    "       'Jeff': [86, 94, 81, 90, 95, 82, 88]}\n",
    "range_golfer = {key: range_score(value) for key, value in data.items()}\n",
    "res_min = [k for k, v in range_golfer.items() if v==min(range_golfer.values())]\n",
    "res_max = [k for k, v in range_golfer.items() if v==max(range_golfer.values())]\n",
    "print(f'{res_min[0]} is the most consistent golfer because he/she has the smallest range of the '\n",
    "      f'three friends of {min(range_golfer.values())}. \\n'\n",
    "      f'{res_max[0]} is the least consistent golfer because he/she has the highest range of the ' \n",
    "      f'three friends of {max(range_golfer.values())}.')"
   ]
  },
  {
   "cell_type": "markdown",
   "metadata": {},
   "source": [
    "# Interquartile Range"
   ]
  },
  {
   "cell_type": "code",
   "execution_count": 9,
   "metadata": {},
   "outputs": [],
   "source": [
    "patients = [75, 86, 87, 90, 94, 102, 105, 109, 110, 120]"
   ]
  },
  {
   "cell_type": "markdown",
   "metadata": {},
   "source": [
    "## Problem 3.8"
   ]
  },
  {
   "cell_type": "code",
   "execution_count": 10,
   "metadata": {},
   "outputs": [
    {
     "name": "stdout",
     "output_type": "stream",
     "text": [
      "The first quartile of the data is 87.\n"
     ]
    }
   ],
   "source": [
    "print(f'The first quartile of the data is {int(np.percentile(patients, 25))}.')"
   ]
  },
  {
   "cell_type": "markdown",
   "metadata": {},
   "source": [
    "## Problem 3.9"
   ]
  },
  {
   "cell_type": "code",
   "execution_count": 11,
   "metadata": {},
   "outputs": [
    {
     "name": "stdout",
     "output_type": "stream",
     "text": [
      "The second quartile of the data is 98.\n"
     ]
    }
   ],
   "source": [
    "print(f'The second quartile of the data is {int(np.percentile(patients, 50))}.')"
   ]
  },
  {
   "cell_type": "markdown",
   "metadata": {},
   "source": [
    "## Problem 3.10"
   ]
  },
  {
   "cell_type": "code",
   "execution_count": 12,
   "metadata": {},
   "outputs": [
    {
     "name": "stdout",
     "output_type": "stream",
     "text": [
      "The third quartile of the data is 108.\n"
     ]
    }
   ],
   "source": [
    "print(f'The third quartile of the data is {int(np.percentile(patients, 75))}.')"
   ]
  },
  {
   "cell_type": "markdown",
   "metadata": {},
   "source": [
    "## Problem 3.11"
   ]
  },
  {
   "cell_type": "code",
   "execution_count": 13,
   "metadata": {},
   "outputs": [
    {
     "name": "stdout",
     "output_type": "stream",
     "text": [
      "The interquartile range of the data is 21.\n"
     ]
    }
   ],
   "source": [
    "quartile = np.percentile(patients, [25, 75])\n",
    "print(f'The interquartile range of the data is {int(quartile[1]) - int(quartile[0])}.')"
   ]
  },
  {
   "cell_type": "markdown",
   "metadata": {},
   "source": [
    "## Problem 3.12"
   ]
  },
  {
   "cell_type": "code",
   "execution_count": 14,
   "metadata": {},
   "outputs": [
    {
     "name": "stdout",
     "output_type": "stream",
     "text": [
      "The interquartile range of the data is 22.\n"
     ]
    }
   ],
   "source": [
    "first_half = [v for v in patients if v < np.percentile(patients, 50)]\n",
    "second_half = [v for v in patients if v > np.percentile(patients, 50)]\n",
    "q1 = np.percentile(first_half, 50)\n",
    "q2 =np.percentile(second_half, 50) \n",
    "print(f'The interquartile range of the data is {int(q2 - q1)}.')"
   ]
  },
  {
   "cell_type": "markdown",
   "metadata": {},
   "source": [
    "## Problem 3.13"
   ]
  },
  {
   "cell_type": "code",
   "execution_count": 15,
   "metadata": {},
   "outputs": [],
   "source": [
    "pages = [322, 340, 351, 365, 402, 460, 498, 525, 567]"
   ]
  },
  {
   "cell_type": "code",
   "execution_count": 16,
   "metadata": {},
   "outputs": [
    {
     "name": "stdout",
     "output_type": "stream",
     "text": [
      "According to the index method, the IQR of the data is 147.\n"
     ]
    }
   ],
   "source": [
    "quartiles = np.percentile(pages, [25, 50, 75])\n",
    "int_range = quartiles[2] - quartiles[0]\n",
    "print(f'According to the index method, the IQR of the data is {int(quartiles[2]) - int(quartiles[0])}.')"
   ]
  },
  {
   "cell_type": "markdown",
   "metadata": {},
   "source": [
    "## Problem 3.14"
   ]
  },
  {
   "cell_type": "code",
   "execution_count": 17,
   "metadata": {},
   "outputs": [
    {
     "name": "stdout",
     "output_type": "stream",
     "text": [
      "According to the median method, the IQR of the data is 166.\n"
     ]
    }
   ],
   "source": [
    "first_half = [v for v in pages if v < np.percentile(pages, 50)]\n",
    "second_half = [v for v in pages if v > np.percentile(pages, 50)]\n",
    "int_range = int(np.percentile(second_half,50)) - int(np.percentile(first_half,50))\n",
    "print(f'According to the median method, the IQR of the data is {int_range}.')"
   ]
  },
  {
   "cell_type": "markdown",
   "metadata": {},
   "source": [
    "\n",
    "## Problem 3.15"
   ]
  },
  {
   "cell_type": "code",
   "execution_count": 18,
   "metadata": {},
   "outputs": [
    {
     "name": "stdout",
     "output_type": "stream",
     "text": [
      "Oil prices in 2007 were more consistent than oil prices in 2008, with an inter-quartile range of  7.89.\n",
      "Oil prices in 2008 were less consistent than oil prices in 2007, with an inter-quartile range of  39.52\n"
     ]
    }
   ],
   "source": [
    "def iqr(values):\n",
    "    first_half = [v for v in values if v < np.percentile(values, 50)]\n",
    "    second_half = [v for v in values if v > np.percentile(values, 50)]\n",
    "    return (np.percentile(second_half,50)) - (np.percentile(first_half,50))\n",
    "\n",
    "\n",
    "data = {'2007': [46.53, 51.36, 52.64, 55.43, 58.08, 59.25, 65.96],\n",
    "       '2008': [84.70, 86.64, 96.87, 104.31, 117.40, 126.16, 126.33]}\n",
    "\n",
    "range_2007 = iqr(data['2007'])\n",
    "range_2008 = iqr(data['2008'])\n",
    "if range_2007 < range_2008:\n",
    "    print(f'Oil prices in 2007 were more consistent than oil prices in 2008, with an inter-quartile range of {range_2007: .2f}.\\n'\n",
    "          f'Oil prices in 2008 were less consistent than oil prices in 2007, with an inter-quartile range of {range_2008: .2f}')\n",
    "else:\n",
    "    print(f'Oil prices in 2008 were more consistent than oil prices in 2007, with an inter-quartile range of {range_2008: .2f}.\\n'\n",
    "          f'Oil prices in 2007 were less consistent than oil prices in 2008, with an inter-quartile range of {range_2007: .2f}')"
   ]
  },
  {
   "cell_type": "markdown",
   "metadata": {},
   "source": [
    "## Problem 3.16"
   ]
  },
  {
   "cell_type": "code",
   "execution_count": 19,
   "metadata": {},
   "outputs": [
    {
     "name": "stdout",
     "output_type": "stream",
     "text": [
      "This sample does not meet the quality standard, because the interquantile range is  0.46, which is greater than the standard of 0.40 ounces.\n"
     ]
    }
   ],
   "source": [
    "weights = [15.70, 15.70, 15.72, 15.73, 15.75, 15.76,\n",
    "          15.78, 15.84, 15.90, 15.95, 15.98, 16.02,\n",
    "          16.05, 16.06, 16.10, 16.15, 16.15, 16.22,\n",
    "          16.30, 16.32, 16.32, 16.35, 16.36, 16.36]\n",
    "\n",
    "quantiles = np.percentile(weights, [25, 75])\n",
    "iqr = quantiles[1] - quantiles[0]\n",
    "iqr\n",
    "if iqr > 0.40:\n",
    "    print(f'This sample does not meet the quality standard, because the interquantile range is {iqr: .2f}, which is '\n",
    "          f'greater than the standard of 0.40 ounces.')\n",
    "else:\n",
    "    print(f'This sample meets the quality standard, because the interquantile range is {iqr: .2f}, which is lower '\n",
    "          f'than the standard of 0.40 ounces.')"
   ]
  },
  {
   "cell_type": "markdown",
   "metadata": {},
   "source": [
    "# Outliers"
   ]
  },
  {
   "cell_type": "markdown",
   "metadata": {},
   "source": [
    "## Problem 3.17"
   ]
  },
  {
   "cell_type": "code",
   "execution_count": 20,
   "metadata": {},
   "outputs": [
    {
     "name": "stdout",
     "output_type": "stream",
     "text": [
      "The following values are outliers: \n",
      "115\n"
     ]
    }
   ],
   "source": [
    "# find outliers\n",
    "days = [9, 10, 21, 36, 37, 40, 46, 50, 53, 59, 61, 64, 75, 94, 115]\n",
    "percentiles = np.percentile(days, [25, 75])\n",
    "IQR = percentiles[1] - percentiles[0]\n",
    "IQR\n",
    "lower_limit = percentiles[0] - 1.5 * IQR\n",
    "upper_limit = percentiles[1] + 1.5 * IQR\n",
    "outliers = [v for v in days if v < lower_limit or v > upper_limit]\n",
    "if len(outliers):\n",
    "    print(f'The following values are outliers: ')\n",
    "    print(*outliers, sep=\", \")"
   ]
  },
  {
   "cell_type": "markdown",
   "metadata": {},
   "source": [
    "## Problem 3.18"
   ]
  },
  {
   "cell_type": "code",
   "execution_count": 21,
   "metadata": {},
   "outputs": [
    {
     "name": "stdout",
     "output_type": "stream",
     "text": [
      "There are no outliers in the data because none of the ratings are lower than  4.125 or hogher than  17.925.\n"
     ]
    }
   ],
   "source": [
    "ratings = [8.5, 8.5, 9, 9.6, 9.9, 10.8, 11.1, 11.6, 11.8, 12.5, 13, 13.1, 14]\n",
    "median = np.percentile(ratings, 50)\n",
    "first_half = [v for v in ratings if v < median]\n",
    "second_half = [v for v in ratings if v > median]\n",
    "q1 = np.percentile(first_half, 50)\n",
    "q2 = np.percentile(second_half, 50)\n",
    "iqr = q2 - q1\n",
    "lower_limit = q1 - 1.5 * iqr\n",
    "upper_limit = q2 + 1.5 * iqr\n",
    "outliers = [v for v in ratings if v < lower_limit or v > upper_limit]\n",
    "if len(outliers):\n",
    "    print(f'The following values are outliers: ')\n",
    "    print(*outliers, sep=\", \")\n",
    "else:\n",
    "    print(f'There are no outliers in the data because none of the ratings are lower than {lower_limit: .3f} '\n",
    "          f'or hogher than {upper_limit: .3f}.')"
   ]
  },
  {
   "cell_type": "markdown",
   "metadata": {},
   "source": [
    "## Problem 3.19"
   ]
  },
  {
   "cell_type": "code",
   "execution_count": 22,
   "metadata": {},
   "outputs": [
    {
     "name": "stdout",
     "output_type": "stream",
     "text": [
      "The following values are outliers: \n",
      "-42, 61, 64\n"
     ]
    }
   ],
   "source": [
    "minutes = [-42, -25, -17, -10, -4, -4, 0, 6, 8, 12, 17, 18, 18, 20, 33, 52, 61, 64]\n",
    "percentiles = np.percentile(minutes, [25, 75])\n",
    "iqr = percentiles[1] - percentiles[0]\n",
    "lower_limit = percentiles[0] - 1.5 * iqr\n",
    "upper_limit = percentiles[1] + 1.5 * iqr\n",
    "outliers = [v for v in minutes if v < lower_limit or v > upper_limit]\n",
    "if len(outliers):\n",
    "    print(f'The following values are outliers: ')\n",
    "    print(*outliers, sep=\", \")\n",
    "else:\n",
    "    print(f'There are no outliers in the data because none of the ratings are lower than {lower_limit: .3f} '\n",
    "          f'or hogher than {upper_limit: .3f}.')"
   ]
  },
  {
   "cell_type": "markdown",
   "metadata": {},
   "source": [
    "## Problem 3.20"
   ]
  },
  {
   "cell_type": "code",
   "execution_count": 23,
   "metadata": {},
   "outputs": [
    {
     "name": "stdout",
     "output_type": "stream",
     "text": [
      "The following values are outliers: \n",
      "-825, 882\n",
      "The mean (excluding the outliers) is $25.5 per month over / under budget.\n"
     ]
    }
   ],
   "source": [
    "budget = [-825, -675, -212, -136, -86, 24, 157, 180, 237, 247, 519, 882]\n",
    "percentiles = np.percentile(budget, [25, 75])\n",
    "iqr = percentiles[1] - percentiles[0]\n",
    "lower_limit = percentiles[0] - 1.5 * iqr\n",
    "upper_limit = percentiles[1] + 1.5 * iqr\n",
    "outliers = [v for v in budget if v < lower_limit or v > upper_limit]\n",
    "if len(outliers):\n",
    "    print(f'The following values are outliers: ')\n",
    "    print(*outliers, sep=\", \")\n",
    "else:\n",
    "    print(f'There are no outliers in the data.')\n",
    "no_outliers = [v for v in budget if lower_limit < v < upper_limit]\n",
    "print(f'The mean (excluding the outliers) is ${np.mean(no_outliers)} per month over / under budget.')"
   ]
  }
 ],
 "metadata": {
  "kernelspec": {
   "display_name": "3.7",
   "language": "python",
   "name": "3.7"
  },
  "language_info": {
   "codemirror_mode": {
    "name": "ipython",
    "version": 3
   },
   "file_extension": ".py",
   "mimetype": "text/x-python",
   "name": "python",
   "nbconvert_exporter": "python",
   "pygments_lexer": "ipython3",
   "version": "3.7.3"
  }
 },
 "nbformat": 4,
 "nbformat_minor": 2
}
