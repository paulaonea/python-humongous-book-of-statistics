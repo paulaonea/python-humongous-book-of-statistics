{
 "cells": [
  {
   "cell_type": "code",
   "execution_count": 1,
   "metadata": {},
   "outputs": [],
   "source": [
    "import pandas as pd\n",
    "import numpy as np\n",
    "import matplotlib.pyplot as plt\n",
    "from scipy import stats"
   ]
  },
  {
   "cell_type": "code",
   "execution_count": 22,
   "metadata": {},
   "outputs": [],
   "source": [
    "patients = [75, 86, 87, 90, 94, 102, 105, 109, 110, 120]"
   ]
  },
  {
   "cell_type": "code",
   "execution_count": 23,
   "metadata": {},
   "outputs": [
    {
     "data": {
      "text/plain": [
       "87.75"
      ]
     },
     "execution_count": 23,
     "metadata": {},
     "output_type": "execute_result"
    }
   ],
   "source": [
    "np.percentile(patients, 25)"
   ]
  },
  {
   "cell_type": "code",
   "execution_count": 29,
   "metadata": {},
   "outputs": [],
   "source": [
    "pages = [322, 340, 351, 365, 402, 460, 498, 525, 567]"
   ]
  },
  {
   "cell_type": "code",
   "execution_count": 31,
   "metadata": {},
   "outputs": [
    {
     "name": "stdout",
     "output_type": "stream",
     "text": [
      "According to the index method, the IQR of the data is 147.\n"
     ]
    }
   ],
   "source": [
    "quartiles = np.percentile(pages, [25, 50, 75])\n",
    "int_range = quartiles[2] - quartiles[0]\n",
    "print(f'According to the index method, the IQR of the data is {int(quartiles[2]) - int(quartiles[0])}.')"
   ]
  },
  {
   "cell_type": "code",
   "execution_count": 32,
   "metadata": {},
   "outputs": [
    {
     "name": "stdout",
     "output_type": "stream",
     "text": [
      "According to the median method, the IQR of the data is 166.\n"
     ]
    }
   ],
   "source": [
    "first_half = [v for v in pages if v < np.percentile(pages, 50)]\n",
    "second_half = [v for v in pages if v > np.percentile(pages, 50)]\n",
    "int_range = int(np.percentile(second_half,50)) - int(np.percentile(first_half,50))\n",
    "print(f'According to the median method, the IQR of the data is {int_range}.')"
   ]
  },
  {
   "cell_type": "code",
   "execution_count": 36,
   "metadata": {},
   "outputs": [
    {
     "name": "stdout",
     "output_type": "stream",
     "text": [
      "Oil prices in 2007 were more consistent than oil prices in 2008, with an inter-quartile range of  7.89.\n",
      "Oil prices in 2008 were less consistent than oil prices in 2007, with an inter-quartile range of  39.52\n"
     ]
    }
   ],
   "source": [
    "def iqr(values):\n",
    "    first_half = [v for v in values if v < np.percentile(values, 50)]\n",
    "    second_half = [v for v in values if v > np.percentile(values, 50)]\n",
    "    return (np.percentile(second_half,50)) - (np.percentile(first_half,50))\n",
    "\n",
    "data = {'2007': [46.53, 51.36, 52.64, 55.43, 58.08, 59.25, 65.96],\n",
    "       '2008': [84.70, 86.64, 96.87, 104.31, 117.40, 126.16, 126.33]}\n",
    "\n",
    "range_2007 = iqr(data['2007'])\n",
    "range_2008 = iqr(data['2008'])\n",
    "if range_2007 < range_2008:\n",
    "    print(f'Oil prices in 2007 were more consistent than oil prices in 2008, with an inter-quartile range of {range_2007: .2f}.\\n'\n",
    "          f'Oil prices in 2008 were less consistent than oil prices in 2007, with an inter-quartile range of {range_2008: .2f}')\n",
    "else:\n",
    "    print(f'Oil prices in 2008 were more consistent than oil prices in 2007, with an inter-quartile range of {range_2008: .2f}.\\n'\n",
    "          f'Oil prices in 2007 were less consistent than oil prices in 2008, with an inter-quartile range of {range_2007: .2f}')\n",
    "\n"
   ]
  },
  {
   "cell_type": "code",
   "execution_count": 44,
   "metadata": {},
   "outputs": [
    {
     "name": "stdout",
     "output_type": "stream",
     "text": [
      "This sample does not meet the quality standard, because the interquantile range is  0.46, which is greater than the standard of 0.40 ounces.\n"
     ]
    }
   ],
   "source": [
    "weights = [15.70, 15.70, 15.72, 15.73, 15.75, 15.76,\n",
    "          15.78, 15.84, 15.90, 15.95, 15.98, 16.02,\n",
    "          16.05, 16.06, 16.10, 16.15, 16.15, 16.22,\n",
    "          16.30, 16.32, 16.32, 16.35, 16.36, 16.36]\n",
    "quantiles = np.percentile(weights, [25, 75])\n",
    "iqr = quantiles[1] - quantiles[0]\n",
    "iqr\n",
    "if iqr > 0.40:\n",
    "    print(f'This sample does not meet the quality standard, because the interquantile range is {iqr: .2f}, which is '\n",
    "          f'greater than the standard of 0.40 ounces.')\n",
    "else:\n",
    "    print(f'This sample meets the quality standard, because the interquantile range is {iqr: .2f}, which is lower '\n",
    "          f'than the standard of 0.40 ounces.')"
   ]
  },
  {
   "cell_type": "code",
   "execution_count": null,
   "metadata": {},
   "outputs": [],
   "source": []
  }
 ],
 "metadata": {
  "kernelspec": {
   "display_name": "Python 3",
   "language": "python",
   "name": "python3"
  },
  "language_info": {
   "codemirror_mode": {
    "name": "ipython",
    "version": 3
   },
   "file_extension": ".py",
   "mimetype": "text/x-python",
   "name": "python",
   "nbconvert_exporter": "python",
   "pygments_lexer": "ipython3",
   "version": "3.7.3"
  }
 },
 "nbformat": 4,
 "nbformat_minor": 2
}
